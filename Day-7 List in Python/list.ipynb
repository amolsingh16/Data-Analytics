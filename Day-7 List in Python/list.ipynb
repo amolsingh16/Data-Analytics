{
 "cells": [
  {
   "cell_type": "markdown",
   "id": "718345aa",
   "metadata": {},
   "source": [
    "List in Python"
   ]
  },
  {
   "cell_type": "markdown",
   "id": "4d242bc2",
   "metadata": {},
   "source": [
    "Creating "
   ]
  },
  {
   "cell_type": "code",
   "execution_count": 1,
   "id": "d2705ba7",
   "metadata": {},
   "outputs": [
    {
     "name": "stdout",
     "output_type": "stream",
     "text": [
      "['Apple', 'Mango', 'Banana']\n",
      "<class 'list'>\n"
     ]
    }
   ],
   "source": [
    "mylist=[\"Apple\",\"Mango\",\"Banana\"]\n",
    "print(mylist)\n",
    "print(type(mylist))"
   ]
  },
  {
   "cell_type": "code",
   "execution_count": 2,
   "id": "2ee2bafc",
   "metadata": {},
   "outputs": [
    {
     "name": "stdout",
     "output_type": "stream",
     "text": [
      "['Apple', 'Mango', 'Apple', 'Mango', 'Banana']\n"
     ]
    }
   ],
   "source": [
    "mylist=[\"Apple\",\"Mango\",\"Apple\",\"Mango\",\"Banana\"]\n",
    "print(mylist)"
   ]
  },
  {
   "cell_type": "code",
   "execution_count": 5,
   "id": "995b036a",
   "metadata": {},
   "outputs": [
    {
     "name": "stdout",
     "output_type": "stream",
     "text": [
      "['apple', 'mango', 'banana']\n",
      "[1, 2, 3, 4, 5]\n",
      "[5.3, 6.2, 9.0]\n",
      "[True, False]\n"
     ]
    }
   ],
   "source": [
    "l1=[\"apple\",\"mango\",\"banana\"]\n",
    "l2=[1,2,3,4,5]\n",
    "l3=[5.3,6.2,9.0]\n",
    "l4=[True,False]\n",
    "print(l1)\n",
    "print(l2)\n",
    "print(l3)\n",
    "print(l4)"
   ]
  },
  {
   "cell_type": "code",
   "execution_count": 6,
   "id": "b9bf8dc9",
   "metadata": {},
   "outputs": [
    {
     "name": "stdout",
     "output_type": "stream",
     "text": [
      "[1, 2.5, 'Amol', 4, True]\n"
     ]
    }
   ],
   "source": [
    "lst=[1,2.5,\"Amol\",4,True]\n",
    "print(lst)"
   ]
  },
  {
   "cell_type": "markdown",
   "id": "24e9a679",
   "metadata": {},
   "source": [
    "Length of list"
   ]
  },
  {
   "cell_type": "code",
   "execution_count": 7,
   "id": "b3744291",
   "metadata": {},
   "outputs": [
    {
     "name": "stdout",
     "output_type": "stream",
     "text": [
      "5\n"
     ]
    }
   ],
   "source": [
    "lst=[1,2.5,\"Amol\",4,True]\n",
    "l=len(lst)\n",
    "print(l)"
   ]
  },
  {
   "cell_type": "markdown",
   "id": "deaab3d0",
   "metadata": {},
   "source": [
    "Access Items"
   ]
  },
  {
   "cell_type": "code",
   "execution_count": 8,
   "id": "e27772b2",
   "metadata": {},
   "outputs": [
    {
     "name": "stdout",
     "output_type": "stream",
     "text": [
      "23\n"
     ]
    }
   ],
   "source": [
    "a=[1,3,5,73,56,23,7,0]\n",
    "print(a[5])"
   ]
  },
  {
   "cell_type": "code",
   "execution_count": 9,
   "id": "0b7d37b5",
   "metadata": {},
   "outputs": [
    {
     "name": "stdout",
     "output_type": "stream",
     "text": [
      "3\n",
      "56\n"
     ]
    }
   ],
   "source": [
    "print(a[1])\n",
    "print(a[-4])"
   ]
  },
  {
   "cell_type": "markdown",
   "id": "3ad4ccc7",
   "metadata": {},
   "source": [
    "Slicing in List"
   ]
  },
  {
   "cell_type": "code",
   "execution_count": 10,
   "id": "e617bacb",
   "metadata": {},
   "outputs": [
    {
     "name": "stdout",
     "output_type": "stream",
     "text": [
      "[1, 3, 5, 73, 56, 23, 7, 0]\n"
     ]
    }
   ],
   "source": [
    "a=[1,3,5,73,56,23,7,0,23,75,86,34,65,23,65,43]\n",
    "print(a[0:8])"
   ]
  },
  {
   "cell_type": "code",
   "execution_count": 11,
   "id": "037a2c2d",
   "metadata": {},
   "outputs": [
    {
     "name": "stdout",
     "output_type": "stream",
     "text": [
      "[73, 56, 23, 7, 0, 23]\n"
     ]
    }
   ],
   "source": [
    "a=[1,3,5,73,56,23,7,0,23,75,86,34,65,23,65,43]\n",
    "print(a[3:9])"
   ]
  },
  {
   "cell_type": "code",
   "execution_count": 13,
   "id": "ad9b39b5",
   "metadata": {},
   "outputs": [
    {
     "name": "stdout",
     "output_type": "stream",
     "text": [
      "[1, 5, 56, 7, 23, 86, 65, 65]\n"
     ]
    }
   ],
   "source": [
    "a=[1,3,5,73,56,23,7,0,23,75,86,34,65,23,65,43]\n",
    "print(a[0::2])"
   ]
  },
  {
   "cell_type": "markdown",
   "id": "bc74a8dd",
   "metadata": {},
   "source": [
    "Change Item"
   ]
  },
  {
   "cell_type": "code",
   "execution_count": 14,
   "id": "f779b01f",
   "metadata": {},
   "outputs": [
    {
     "name": "stdout",
     "output_type": "stream",
     "text": [
      "['cherry', 'Mango', 'Banana']\n"
     ]
    }
   ],
   "source": [
    "mylist=[\"Apple\",\"Mango\",\"Banana\"]\n",
    "mylist[0]=\"cherry\"\n",
    "print(mylist)"
   ]
  },
  {
   "cell_type": "code",
   "execution_count": 15,
   "id": "bf4c448f",
   "metadata": {},
   "outputs": [
    {
     "name": "stdout",
     "output_type": "stream",
     "text": [
      "[1, 3, 5, 'amol', 56, 23, 7, 0, 23, 75, 86, 34, 65, 23, 65, 43]\n"
     ]
    }
   ],
   "source": [
    "a=[1,3,5,73,56,23,7,0,23,75,86,34,65,23,65,43]\n",
    "a[3]=\"amol\"\n",
    "print(a)"
   ]
  },
  {
   "cell_type": "markdown",
   "id": "0a5087ae",
   "metadata": {},
   "source": [
    "Change a range of item values"
   ]
  },
  {
   "cell_type": "code",
   "execution_count": 16,
   "id": "19cd5424",
   "metadata": {},
   "outputs": [
    {
     "name": "stdout",
     "output_type": "stream",
     "text": [
      "[1, 3, 'book', 'pen', 'paper', 56, 23, 7, 0, 23, 75, 86, 34, 65, 23, 65, 43]\n"
     ]
    }
   ],
   "source": [
    "a=[1,3,5,73,56,23,7,0,23,75,86,34,65,23,65,43]\n",
    "a[2:4]=[\"book\",\"pen\",\"paper\"]\n",
    "print(a)"
   ]
  },
  {
   "cell_type": "code",
   "execution_count": 17,
   "id": "69bc62e9",
   "metadata": {},
   "outputs": [
    {
     "name": "stdout",
     "output_type": "stream",
     "text": [
      "[1, 3, 'book', 'pen', 56, 23, 7, 0, 23, 75, 86, 34, 65, 23, 65, 43]\n"
     ]
    }
   ],
   "source": [
    "a=[1,3,5,73,56,23,7,0,23,75,86,34,65,23,65,43]\n",
    "a[2:4]=[\"book\",\"pen\",]\n",
    "print(a)"
   ]
  },
  {
   "cell_type": "code",
   "execution_count": 18,
   "id": "0581905c",
   "metadata": {},
   "outputs": [
    {
     "name": "stdout",
     "output_type": "stream",
     "text": [
      "[1, 3, 'book', 56, 23, 7, 0, 23, 75, 86, 34, 65, 23, 65, 43]\n"
     ]
    }
   ],
   "source": [
    "a=[1,3,5,73,56,23,7,0,23,75,86,34,65,23,65,43]\n",
    "a[2:4]=[\"book\"]\n",
    "print(a)"
   ]
  },
  {
   "cell_type": "markdown",
   "id": "3dbd7f9a",
   "metadata": {},
   "source": [
    "Append Method"
   ]
  },
  {
   "cell_type": "code",
   "execution_count": 19,
   "id": "a3e10024",
   "metadata": {},
   "outputs": [
    {
     "name": "stdout",
     "output_type": "stream",
     "text": [
      "[1, 3, 5, 73, 56, 23, 7, 0, 23, -11]\n"
     ]
    }
   ],
   "source": [
    "a=[1,3,5,73,56,23,7,0,23,]\n",
    "a.append(-11)\n",
    "print(a)"
   ]
  },
  {
   "cell_type": "code",
   "execution_count": 20,
   "id": "5793d5bf",
   "metadata": {},
   "outputs": [
    {
     "name": "stdout",
     "output_type": "stream",
     "text": [
      "[1, 3, 5, 73, 56, 23, 7, 0, 23, -11, 33]\n"
     ]
    }
   ],
   "source": [
    "a.append(33)\n",
    "print(a)"
   ]
  },
  {
   "cell_type": "markdown",
   "id": "c8cacdeb",
   "metadata": {},
   "source": [
    "Remove Method\n"
   ]
  },
  {
   "cell_type": "code",
   "execution_count": 21,
   "id": "402c585b",
   "metadata": {},
   "outputs": [
    {
     "name": "stdout",
     "output_type": "stream",
     "text": [
      "[1, 5, 73, 56, 23, 7, 0, 23]\n"
     ]
    }
   ],
   "source": [
    "a=[1,3,5,73,56,23,7,0,23]\n",
    "a.remove(3)\n",
    "print(a)"
   ]
  },
  {
   "cell_type": "code",
   "execution_count": 27,
   "id": "72d17ed2",
   "metadata": {},
   "outputs": [
    {
     "name": "stdout",
     "output_type": "stream",
     "text": [
      "[1, 5, 73, 56, 0, 23]\n"
     ]
    }
   ],
   "source": [
    "a.remove(23)\n",
    "print(a)"
   ]
  },
  {
   "cell_type": "markdown",
   "id": "faffd2ac",
   "metadata": {},
   "source": [
    "Reverse a List"
   ]
  },
  {
   "cell_type": "code",
   "execution_count": 28,
   "id": "6afed477",
   "metadata": {},
   "outputs": [
    {
     "name": "stdout",
     "output_type": "stream",
     "text": [
      "['python', 5, 6.3, True, 'amol', 33, 1]\n"
     ]
    }
   ],
   "source": [
    "a=[1,33,\"amol\",True,6.3,5,\"python\"]\n",
    "a.reverse()\n",
    "print(a)"
   ]
  },
  {
   "cell_type": "markdown",
   "id": "9997dca0",
   "metadata": {},
   "source": [
    "Sum of list\n"
   ]
  },
  {
   "cell_type": "code",
   "execution_count": 29,
   "id": "27080551",
   "metadata": {},
   "outputs": [
    {
     "name": "stdout",
     "output_type": "stream",
     "text": [
      "sum of list is  191\n"
     ]
    }
   ],
   "source": [
    "lst=[1,3,5,73,56,23,7,0,23]\n",
    "l=len(lst)\n",
    "a=0\n",
    "for i in range(l):\n",
    "    a=a+lst[i]\n",
    "print(\"sum of list is \",a)"
   ]
  },
  {
   "cell_type": "markdown",
   "id": "8e850663",
   "metadata": {},
   "source": [
    "Multiply all the number of a list"
   ]
  },
  {
   "cell_type": "code",
   "execution_count": 31,
   "id": "d3c4fca0",
   "metadata": {},
   "outputs": [
    {
     "name": "stdout",
     "output_type": "stream",
     "text": [
      "multiply of list is  3628800\n"
     ]
    }
   ],
   "source": [
    "lst=[1,2,3,4,5,6,7,8,9,10]\n",
    "l=len(lst)\n",
    "a=1\n",
    "for i in range(l):\n",
    "    a=a*lst[i]\n",
    "print(\"multiply of list is \",a)"
   ]
  },
  {
   "cell_type": "code",
   "execution_count": null,
   "id": "aa5c4a9f",
   "metadata": {},
   "outputs": [],
   "source": []
  }
 ],
 "metadata": {
  "kernelspec": {
   "display_name": "Python 3",
   "language": "python",
   "name": "python3"
  },
  "language_info": {
   "codemirror_mode": {
    "name": "ipython",
    "version": 3
   },
   "file_extension": ".py",
   "mimetype": "text/x-python",
   "name": "python",
   "nbconvert_exporter": "python",
   "pygments_lexer": "ipython3",
   "version": "3.12.5"
  }
 },
 "nbformat": 4,
 "nbformat_minor": 5
}
