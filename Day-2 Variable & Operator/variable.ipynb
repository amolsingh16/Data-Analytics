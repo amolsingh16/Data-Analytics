{
 "cells": [
  {
   "cell_type": "markdown",
   "id": "0916fc49",
   "metadata": {},
   "source": [
    "Variables"
   ]
  },
  {
   "cell_type": "code",
   "execution_count": 1,
   "id": "c84ab122",
   "metadata": {},
   "outputs": [
    {
     "name": "stdout",
     "output_type": "stream",
     "text": [
      "4\n"
     ]
    }
   ],
   "source": [
    "a=4\n",
    "print(a)"
   ]
  },
  {
   "cell_type": "code",
   "execution_count": 2,
   "id": "b1a8feee",
   "metadata": {},
   "outputs": [
    {
     "name": "stdout",
     "output_type": "stream",
     "text": [
      "2 2.4\n"
     ]
    }
   ],
   "source": [
    "b=2\n",
    "c=2.4\n",
    "print(b,c)"
   ]
  },
  {
   "cell_type": "code",
   "execution_count": 3,
   "id": "3cc5558d",
   "metadata": {},
   "outputs": [
    {
     "name": "stdout",
     "output_type": "stream",
     "text": [
      " Amol \n"
     ]
    }
   ],
   "source": [
    "x=\" Amol \"\n",
    "print(x)"
   ]
  },
  {
   "cell_type": "code",
   "execution_count": 1,
   "id": "3abd9232",
   "metadata": {},
   "outputs": [
    {
     "name": "stdout",
     "output_type": "stream",
     "text": [
      "7.1\n"
     ]
    }
   ],
   "source": [
    "a=2.5\n",
    "b=4.6\n",
    "c=a+b\n",
    "print(c)"
   ]
  },
  {
   "cell_type": "code",
   "execution_count": 1,
   "id": "86cce307",
   "metadata": {},
   "outputs": [
    {
     "name": "stdout",
     "output_type": "stream",
     "text": [
      "10\n"
     ]
    }
   ],
   "source": [
    "_a=10\n",
    "print(_a)"
   ]
  },
  {
   "cell_type": "markdown",
   "id": "62380c24",
   "metadata": {},
   "source": [
    "Many values to multiple variables"
   ]
  },
  {
   "cell_type": "code",
   "execution_count": 2,
   "id": "57424b03",
   "metadata": {},
   "outputs": [
    {
     "name": "stdout",
     "output_type": "stream",
     "text": [
      "amol singh\n"
     ]
    }
   ],
   "source": [
    "x,y=\"amol\",\"singh\"\n",
    "print(x ,y )"
   ]
  },
  {
   "cell_type": "code",
   "execution_count": 3,
   "id": "cfcd5481",
   "metadata": {},
   "outputs": [
    {
     "name": "stdout",
     "output_type": "stream",
     "text": [
      "amol amol amol\n"
     ]
    }
   ],
   "source": [
    "x=y=z=\"amol\"\n",
    "print(x,y,z)"
   ]
  },
  {
   "cell_type": "markdown",
   "id": "5403796b",
   "metadata": {},
   "source": [
    "Python output variables"
   ]
  },
  {
   "cell_type": "code",
   "execution_count": 4,
   "id": "0398935b",
   "metadata": {},
   "outputs": [
    {
     "name": "stdout",
     "output_type": "stream",
     "text": [
      "python is amazing\n",
      "\n",
      "python\n",
      "is\n",
      "amazing\n"
     ]
    }
   ],
   "source": [
    "x=\"python\"\n",
    "y=\"is\"\n",
    "z=\"amazing\"\n",
    "print(x,y,z)\n",
    "print()\n",
    "print(x)\n",
    "print(y)\n",
    "print(z)"
   ]
  }
 ],
 "metadata": {
  "kernelspec": {
   "display_name": "Python 3",
   "language": "python",
   "name": "python3"
  },
  "language_info": {
   "codemirror_mode": {
    "name": "ipython",
    "version": 3
   },
   "file_extension": ".py",
   "mimetype": "text/x-python",
   "name": "python",
   "nbconvert_exporter": "python",
   "pygments_lexer": "ipython3",
   "version": "3.12.5"
  }
 },
 "nbformat": 4,
 "nbformat_minor": 5
}
