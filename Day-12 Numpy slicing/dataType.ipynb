{
 "cells": [
  {
   "cell_type": "markdown",
   "id": "96452d58",
   "metadata": {},
   "source": [
    "Data Type in Numpy"
   ]
  },
  {
   "cell_type": "markdown",
   "id": "9289ffbf",
   "metadata": {},
   "source": [
    "i - integer   //\n",
    "b -boolean  //\n",
    "u - unsigned integer  //\n",
    "f - float  //\n",
    "c - complex float  //\n",
    "m - timedelta  //\n",
    "M - datetime  //\n",
    "O - object  //\n",
    "s - string  //\n",
    "U - unicode string  //\n",
    "v - fixed chunk of memory for other type(void)"
   ]
  },
  {
   "cell_type": "markdown",
   "id": "dd3b33f0",
   "metadata": {},
   "source": [
    "Checking the data type of an array"
   ]
  },
  {
   "cell_type": "code",
   "execution_count": null,
   "id": "51c81dbb",
   "metadata": {},
   "outputs": [
    {
     "ename": "ModuleNotFoundError",
     "evalue": "No module named 'numpy'",
     "output_type": "error",
     "traceback": [
      "\u001b[31m---------------------------------------------------------------------------\u001b[39m",
      "\u001b[31mModuleNotFoundError\u001b[39m                       Traceback (most recent call last)",
      "\u001b[36mCell\u001b[39m\u001b[36m \u001b[39m\u001b[32mIn[1]\u001b[39m\u001b[32m, line 1\u001b[39m\n\u001b[32m----> \u001b[39m\u001b[32m1\u001b[39m \u001b[38;5;28;01mimport\u001b[39;00m\u001b[38;5;250m \u001b[39m\u001b[34;01mnumpy\u001b[39;00m\u001b[38;5;250m \u001b[39m\u001b[38;5;28;01mas\u001b[39;00m\u001b[38;5;250m \u001b[39m\u001b[34;01mnp\u001b[39;00m\n\u001b[32m      2\u001b[39m arr=np.array([\u001b[32m1\u001b[39m,\u001b[32m2\u001b[39m,\u001b[32m3\u001b[39m,\u001b[32m4\u001b[39m,\u001b[32m5\u001b[39m,\u001b[32m6\u001b[39m])\n\u001b[32m      3\u001b[39m \u001b[38;5;28mprint\u001b[39m(arr.dtype)\n",
      "\u001b[31mModuleNotFoundError\u001b[39m: No module named 'numpy'"
     ]
    }
   ],
   "source": [
    "import numpy as np\n",
    "arr=np.array([1,2,3,4,5,6])\n",
    "print(arr.dtype)               # int32"
   ]
  },
  {
   "cell_type": "code",
   "execution_count": null,
   "id": "2cbfe7e6",
   "metadata": {},
   "outputs": [
    {
     "ename": "ModuleNotFoundError",
     "evalue": "No module named 'numpy'",
     "output_type": "error",
     "traceback": [
      "\u001b[31m---------------------------------------------------------------------------\u001b[39m",
      "\u001b[31mModuleNotFoundError\u001b[39m                       Traceback (most recent call last)",
      "\u001b[36mCell\u001b[39m\u001b[36m \u001b[39m\u001b[32mIn[2]\u001b[39m\u001b[32m, line 1\u001b[39m\n\u001b[32m----> \u001b[39m\u001b[32m1\u001b[39m \u001b[38;5;28;01mimport\u001b[39;00m\u001b[38;5;250m \u001b[39m\u001b[34;01mnumpy\u001b[39;00m\u001b[38;5;250m \u001b[39m\u001b[38;5;28;01mas\u001b[39;00m\u001b[38;5;250m \u001b[39m\u001b[34;01mnp\u001b[39;00m\n\u001b[32m      2\u001b[39m arr=([\u001b[33m'\u001b[39m\u001b[33manimal\u001b[39m\u001b[33m'\u001b[39m,\u001b[33m'\u001b[39m\u001b[33mbat\u001b[39m\u001b[33m'\u001b[39m,\u001b[33m'\u001b[39m\u001b[33mcat\u001b[39m\u001b[33m'\u001b[39m])\n\u001b[32m      3\u001b[39m \u001b[38;5;28mprint\u001b[39m(arr.dtype)\n",
      "\u001b[31mModuleNotFoundError\u001b[39m: No module named 'numpy'"
     ]
    }
   ],
   "source": [
    "import numpy as np\n",
    "arr=(['animal','bat','cat'])\n",
    "print(arr.dtype)             #<U7"
   ]
  },
  {
   "cell_type": "markdown",
   "id": "6460f8fc",
   "metadata": {},
   "source": [
    "Creating array with a defined data type"
   ]
  },
  {
   "cell_type": "code",
   "execution_count": 3,
   "id": "b8ba5d13",
   "metadata": {},
   "outputs": [
    {
     "ename": "NameError",
     "evalue": "name 'np' is not defined",
     "output_type": "error",
     "traceback": [
      "\u001b[31m---------------------------------------------------------------------------\u001b[39m",
      "\u001b[31mNameError\u001b[39m                                 Traceback (most recent call last)",
      "\u001b[36mCell\u001b[39m\u001b[36m \u001b[39m\u001b[32mIn[3]\u001b[39m\u001b[32m, line 1\u001b[39m\n\u001b[32m----> \u001b[39m\u001b[32m1\u001b[39m arr= \u001b[43mnp\u001b[49m.array([\u001b[32m1\u001b[39m,\u001b[32m2\u001b[39m,\u001b[32m3\u001b[39m,\u001b[32m4\u001b[39m,\u001b[32m5\u001b[39m],dtype=\u001b[33m'\u001b[39m\u001b[33ms\u001b[39m\u001b[33m'\u001b[39m)\n\u001b[32m      2\u001b[39m \u001b[38;5;28mprint\u001b[39m(arr)\n\u001b[32m      3\u001b[39m \u001b[38;5;28mprint\u001b[39m(arr.dtype)         \u001b[38;5;66;03m#[b'1' b'2' b'3' b'4']\u001b[39;00m\n",
      "\u001b[31mNameError\u001b[39m: name 'np' is not defined"
     ]
    }
   ],
   "source": [
    "arr= np.array([1,2,3,4,5],dtype='s')\n",
    "print(arr)\n",
    "print(arr.dtype)         #[b'1' b'2' b'3' b'4']\n",
    "                         #[s1]"
   ]
  },
  {
   "cell_type": "markdown",
   "id": "e852ee30",
   "metadata": {},
   "source": [
    "Creating an array with data types 4 bytes integer"
   ]
  },
  {
   "cell_type": "code",
   "execution_count": 4,
   "id": "3e33ac28",
   "metadata": {},
   "outputs": [
    {
     "ename": "NameError",
     "evalue": "name 'np' is not defined",
     "output_type": "error",
     "traceback": [
      "\u001b[31m---------------------------------------------------------------------------\u001b[39m",
      "\u001b[31mNameError\u001b[39m                                 Traceback (most recent call last)",
      "\u001b[36mCell\u001b[39m\u001b[36m \u001b[39m\u001b[32mIn[4]\u001b[39m\u001b[32m, line 1\u001b[39m\n\u001b[32m----> \u001b[39m\u001b[32m1\u001b[39m arr= \u001b[43mnp\u001b[49m.array([\u001b[32m1\u001b[39m,\u001b[32m2\u001b[39m,\u001b[32m3\u001b[39m,\u001b[32m4\u001b[39m,\u001b[32m5\u001b[39m],dtype=\u001b[33m'\u001b[39m\u001b[33mi4\u001b[39m\u001b[33m'\u001b[39m)\n\u001b[32m      2\u001b[39m \u001b[38;5;28mprint\u001b[39m(arr)\n\u001b[32m      3\u001b[39m \u001b[38;5;28mprint\u001b[39m(arr.dtype)          \u001b[38;5;66;03m#[1 2 3 4]\u001b[39;00m\n",
      "\u001b[31mNameError\u001b[39m: name 'np' is not defined"
     ]
    }
   ],
   "source": [
    "arr= np.array([1,2,3,4,5],dtype='i4')\n",
    "print(arr)\n",
    "print(arr.dtype)          #[1 2 3 4]\n",
    "                          #int32"
   ]
  },
  {
   "cell_type": "markdown",
   "id": "f728bede",
   "metadata": {},
   "source": [
    "Numpy array Shape"
   ]
  },
  {
   "cell_type": "markdown",
   "id": "7d2e5240",
   "metadata": {},
   "source": [
    "the shape of an array is the number of elements in each dimension "
   ]
  },
  {
   "cell_type": "markdown",
   "id": "77b0f71d",
   "metadata": {},
   "source": [
    "Print the shape of 2D array"
   ]
  },
  {
   "cell_type": "code",
   "execution_count": null,
   "id": "1fa9681e",
   "metadata": {},
   "outputs": [
    {
     "ename": "ModuleNotFoundError",
     "evalue": "No module named 'numpy'",
     "output_type": "error",
     "traceback": [
      "\u001b[31m---------------------------------------------------------------------------\u001b[39m",
      "\u001b[31mModuleNotFoundError\u001b[39m                       Traceback (most recent call last)",
      "\u001b[36mCell\u001b[39m\u001b[36m \u001b[39m\u001b[32mIn[6]\u001b[39m\u001b[32m, line 1\u001b[39m\n\u001b[32m----> \u001b[39m\u001b[32m1\u001b[39m \u001b[38;5;28;01mimport\u001b[39;00m\u001b[38;5;250m \u001b[39m\u001b[34;01mnumpy\u001b[39;00m\u001b[38;5;250m \u001b[39m\u001b[38;5;28;01mas\u001b[39;00m\u001b[38;5;250m \u001b[39m\u001b[34;01mnp\u001b[39;00m\n\u001b[32m      2\u001b[39m arr=np.array([[\u001b[32m1\u001b[39m,\u001b[32m2\u001b[39m,\u001b[32m3\u001b[39m,\u001b[32m4\u001b[39m,\u001b[32m5\u001b[39m],[\u001b[32m6\u001b[39m,\u001b[32m7\u001b[39m,\u001b[32m8\u001b[39m,\u001b[32m9\u001b[39m,\u001b[32m10\u001b[39m]])\n\u001b[32m      3\u001b[39m \u001b[38;5;28mprint\u001b[39m(arr.shape)\n",
      "\u001b[31mModuleNotFoundError\u001b[39m: No module named 'numpy'"
     ]
    }
   ],
   "source": [
    "import numpy as np\n",
    "arr=np.array([[1,2,3,4,5],[6,7,8,9,10]])\n",
    "print(arr.shape)           #(2,5)"
   ]
  },
  {
   "cell_type": "code",
   "execution_count": null,
   "id": "d0ce70c8",
   "metadata": {},
   "outputs": [],
   "source": [
    "import numpy as np\n",
    "arr=np.array([[[1,2,3,4,5],[6,7,8,9,10],[1,2,3,4,5]]])\n",
    "print(arr.shape)             #(1,3,5)"
   ]
  },
  {
   "cell_type": "markdown",
   "id": "34438033",
   "metadata": {},
   "source": [
    "Joining numpy array"
   ]
  },
  {
   "cell_type": "code",
   "execution_count": 7,
   "id": "1db23916",
   "metadata": {},
   "outputs": [
    {
     "ename": "NameError",
     "evalue": "name 'np' is not defined",
     "output_type": "error",
     "traceback": [
      "\u001b[31m---------------------------------------------------------------------------\u001b[39m",
      "\u001b[31mNameError\u001b[39m                                 Traceback (most recent call last)",
      "\u001b[36mCell\u001b[39m\u001b[36m \u001b[39m\u001b[32mIn[7]\u001b[39m\u001b[32m, line 1\u001b[39m\n\u001b[32m----> \u001b[39m\u001b[32m1\u001b[39m arr1=\u001b[43mnp\u001b[49m.array([\u001b[32m1\u001b[39m,\u001b[32m2\u001b[39m,\u001b[32m3\u001b[39m])\n\u001b[32m      2\u001b[39m arr2=np.array([\u001b[32m4\u001b[39m,\u001b[32m5\u001b[39m,\u001b[32m6\u001b[39m])\n\u001b[32m      3\u001b[39m arr=np.concatenate((arr1 , arr2))\n",
      "\u001b[31mNameError\u001b[39m: name 'np' is not defined"
     ]
    }
   ],
   "source": [
    "arr1=np.array([1,2,3])\n",
    "arr2=np.array([4,5,6])\n",
    "arr=np.concatenate((arr1 , arr2))\n",
    "print(arr)"
   ]
  },
  {
   "cell_type": "markdown",
   "id": "18c22f92",
   "metadata": {},
   "source": [
    "Join 2d array\n"
   ]
  },
  {
   "cell_type": "code",
   "execution_count": null,
   "id": "1006b5a5",
   "metadata": {},
   "outputs": [],
   "source": [
    "arr1=np.array([[1,2,3],[7,8,9]])\n",
    "arr2=np.array([[4,5,6],[10,11,12]])\n",
    "arr=np.concatenate((arr1 , arr2),axis=1)\n",
    "print(arr)   \n",
    "                 #  [[1 2 3 4 5 6]\n",
    "                 #  [7 8 9 10 11 12]]"
   ]
  },
  {
   "cell_type": "code",
   "execution_count": null,
   "id": "d7b7be34",
   "metadata": {},
   "outputs": [],
   "source": [
    "arr1=np.array([[1,2,3],[7,8,9]])\n",
    "arr2=np.array([[4,5,6],[10,11,12]])\n",
    "arr=np.concatenate((arr1 , arr2),axis=0)\n",
    "print(arr)\n",
    "                #  [[1 2 3]\n",
    "                #  [7 8 9]\n",
    "                #  [4 5 6]\n",
    "                #  [10 11 12]]"
   ]
  },
  {
   "cell_type": "markdown",
   "id": "5f607e24",
   "metadata": {},
   "source": [
    "Spliting numpy array"
   ]
  },
  {
   "cell_type": "markdown",
   "id": "b5b8599c",
   "metadata": {},
   "source": [
    "Spliting the array in three parts"
   ]
  },
  {
   "cell_type": "code",
   "execution_count": null,
   "id": "637a9d32",
   "metadata": {},
   "outputs": [
    {
     "ename": "NameError",
     "evalue": "name 'np' is not defined",
     "output_type": "error",
     "traceback": [
      "\u001b[31m---------------------------------------------------------------------------\u001b[39m",
      "\u001b[31mNameError\u001b[39m                                 Traceback (most recent call last)",
      "\u001b[36mCell\u001b[39m\u001b[36m \u001b[39m\u001b[32mIn[8]\u001b[39m\u001b[32m, line 1\u001b[39m\n\u001b[32m----> \u001b[39m\u001b[32m1\u001b[39m arr=\u001b[43mnp\u001b[49m.array([\u001b[32m1\u001b[39m,\u001b[32m2\u001b[39m,\u001b[32m3\u001b[39m,\u001b[32m4\u001b[39m,\u001b[32m5\u001b[39m,\u001b[32m6\u001b[39m])\n\u001b[32m      2\u001b[39m newarr=np.array_split(arr,\u001b[32m3\u001b[39m)\n\u001b[32m      3\u001b[39m \u001b[38;5;28mprint\u001b[39m(newarr)\n",
      "\u001b[31mNameError\u001b[39m: name 'np' is not defined"
     ]
    }
   ],
   "source": [
    "arr=np.array([1,2,3,4,5,6])\n",
    "newarr=np.array_split(arr,3)\n",
    "print(newarr)       \n",
    "              # [array([1,2]),array([3,4]),array([5,6])]"
   ]
  },
  {
   "cell_type": "markdown",
   "id": "2c2af292",
   "metadata": {},
   "source": [
    "Spliting the array in four parts"
   ]
  },
  {
   "cell_type": "code",
   "execution_count": 9,
   "id": "bfbb2a60",
   "metadata": {},
   "outputs": [
    {
     "ename": "NameError",
     "evalue": "name 'np' is not defined",
     "output_type": "error",
     "traceback": [
      "\u001b[31m---------------------------------------------------------------------------\u001b[39m",
      "\u001b[31mNameError\u001b[39m                                 Traceback (most recent call last)",
      "\u001b[36mCell\u001b[39m\u001b[36m \u001b[39m\u001b[32mIn[9]\u001b[39m\u001b[32m, line 1\u001b[39m\n\u001b[32m----> \u001b[39m\u001b[32m1\u001b[39m arr=\u001b[43mnp\u001b[49m.array([\u001b[32m1\u001b[39m,\u001b[32m2\u001b[39m,\u001b[32m3\u001b[39m,\u001b[32m4\u001b[39m,\u001b[32m5\u001b[39m,\u001b[32m6\u001b[39m])\n\u001b[32m      2\u001b[39m newarr=np.array_split(arr,\u001b[32m4\u001b[39m)\n\u001b[32m      3\u001b[39m \u001b[38;5;28mprint\u001b[39m(newarr)       \n",
      "\u001b[31mNameError\u001b[39m: name 'np' is not defined"
     ]
    }
   ],
   "source": [
    "arr=np.array([1,2,3,4,5,6])\n",
    "newarr=np.array_split(arr,4)\n",
    "print(newarr)       \n",
    "              # [array([1,2]),array([3,4]),array([5]),array([6])]"
   ]
  },
  {
   "cell_type": "markdown",
   "id": "aa3346ad",
   "metadata": {},
   "source": [
    "Ravel and flatten"
   ]
  },
  {
   "cell_type": "markdown",
   "id": "f736dfe0",
   "metadata": {},
   "source": [
    "convert multidimensional array into 1D array"
   ]
  },
  {
   "cell_type": "code",
   "execution_count": null,
   "id": "914540e8",
   "metadata": {},
   "outputs": [],
   "source": [
    "m=np.array([[[1,2,3],[4,5,6],[7,8,9]]])\n",
    "n=m.ravel()\n",
    "print(n)\n",
    "\n",
    "                       #    [1 2 3 4 5 6 7 8 9]"
   ]
  },
  {
   "cell_type": "code",
   "execution_count": 10,
   "id": "267672ad",
   "metadata": {},
   "outputs": [
    {
     "ename": "NameError",
     "evalue": "name 'np' is not defined",
     "output_type": "error",
     "traceback": [
      "\u001b[31m---------------------------------------------------------------------------\u001b[39m",
      "\u001b[31mNameError\u001b[39m                                 Traceback (most recent call last)",
      "\u001b[36mCell\u001b[39m\u001b[36m \u001b[39m\u001b[32mIn[10]\u001b[39m\u001b[32m, line 1\u001b[39m\n\u001b[32m----> \u001b[39m\u001b[32m1\u001b[39m m=\u001b[43mnp\u001b[49m.array([[[\u001b[32m1\u001b[39m,\u001b[32m2\u001b[39m,\u001b[32m3\u001b[39m],[\u001b[32m4\u001b[39m,\u001b[32m5\u001b[39m,\u001b[32m6\u001b[39m],[\u001b[32m7\u001b[39m,\u001b[32m8\u001b[39m,\u001b[32m9\u001b[39m]]])\n\u001b[32m      2\u001b[39m n=m.flatten()\n\u001b[32m      3\u001b[39m \u001b[38;5;28mprint\u001b[39m(n)\n",
      "\u001b[31mNameError\u001b[39m: name 'np' is not defined"
     ]
    }
   ],
   "source": [
    "m=np.array([[[1,2,3],[4,5,6],[7,8,9]]])\n",
    "n=m.flatten()\n",
    "print(n)\n",
    "\n",
    "                       #    [1 2 3 4 5 6 7 8 9]"
   ]
  },
  {
   "cell_type": "code",
   "execution_count": 11,
   "id": "1a34d7e5",
   "metadata": {},
   "outputs": [
    {
     "ename": "NameError",
     "evalue": "name 'np' is not defined",
     "output_type": "error",
     "traceback": [
      "\u001b[31m---------------------------------------------------------------------------\u001b[39m",
      "\u001b[31mNameError\u001b[39m                                 Traceback (most recent call last)",
      "\u001b[36mCell\u001b[39m\u001b[36m \u001b[39m\u001b[32mIn[11]\u001b[39m\u001b[32m, line 1\u001b[39m\n\u001b[32m----> \u001b[39m\u001b[32m1\u001b[39m c=\u001b[43mnp\u001b[49m.array([[[[\u001b[32m1\u001b[39m,\u001b[32m2\u001b[39m,\u001b[32m3\u001b[39m],[\u001b[32m4\u001b[39m,\u001b[32m54\u001b[39m,\u001b[32m45\u001b[39m],[\u001b[32m33\u001b[39m,\u001b[32m354\u001b[39m,\u001b[32m65\u001b[39m]]]])\n\u001b[32m      2\u001b[39m \u001b[38;5;28mprint\u001b[39m(c)\n\u001b[32m      3\u001b[39m \u001b[38;5;28mprint\u001b[39m(c.ndim)\n",
      "\u001b[31mNameError\u001b[39m: name 'np' is not defined"
     ]
    }
   ],
   "source": [
    "c=np.array([[[[1,2,3],[4,54,45],[33,354,65]]]])\n",
    "print(c)\n",
    "print(c.ndim)\n",
    "d=c.ravel()\n",
    "print(d)\n",
    "print(\"now the new dimension is \",d.ndim)"
   ]
  },
  {
   "cell_type": "markdown",
   "id": "01ae06dd",
   "metadata": {},
   "source": [
    "Unique function"
   ]
  },
  {
   "cell_type": "code",
   "execution_count": null,
   "id": "6e157f27",
   "metadata": {},
   "outputs": [],
   "source": [
    "k=np.array([22,43,67,2,22,65,34,75,43,23,22])\n",
    "print(k)\n",
    "x=np.unique(k)\n",
    "print(x)\n",
    "\n",
    "        #   [22 43 67 2 22 65 34 75 43 23 22]\n",
    "        #   [22 43 67 2 65 34 75 43 23]"
   ]
  },
  {
   "cell_type": "code",
   "execution_count": null,
   "id": "d060e51a",
   "metadata": {},
   "outputs": [],
   "source": [
    "k=np.array([22,43,67,2,22,65,34,75,43,23,22])\n",
    "print(k)\n",
    "x=np.unique(k,return_index=True)\n",
    "print(x)"
   ]
  },
  {
   "cell_type": "code",
   "execution_count": null,
   "id": "4e5a40bb",
   "metadata": {},
   "outputs": [],
   "source": [
    "k=np.array([22,43,67,2,22,65,34,75,43,23,22])\n",
    "print(k)\n",
    "x=np.unique(k,return_index=True , return_counts = True)\n",
    "print(x)"
   ]
  },
  {
   "cell_type": "markdown",
   "id": "397f1abc",
   "metadata": {},
   "source": [
    "Delete"
   ]
  },
  {
   "cell_type": "code",
   "execution_count": null,
   "id": "5a116637",
   "metadata": {},
   "outputs": [],
   "source": [
    "k=np.array([22,43,67,2,65,34,75,43,23])\n",
    "d=np.delete(a,[1])\n",
    "print(d)  \n",
    "        #   [22 67 2 65 34 75 43 23]"
   ]
  },
  {
   "cell_type": "code",
   "execution_count": 12,
   "id": "67d12220",
   "metadata": {},
   "outputs": [
    {
     "ename": "NameError",
     "evalue": "name 'np' is not defined",
     "output_type": "error",
     "traceback": [
      "\u001b[31m---------------------------------------------------------------------------\u001b[39m",
      "\u001b[31mNameError\u001b[39m                                 Traceback (most recent call last)",
      "\u001b[36mCell\u001b[39m\u001b[36m \u001b[39m\u001b[32mIn[12]\u001b[39m\u001b[32m, line 1\u001b[39m\n\u001b[32m----> \u001b[39m\u001b[32m1\u001b[39m c=\u001b[43mnp\u001b[49m.array([[[\u001b[32m1\u001b[39m,\u001b[32m2\u001b[39m,\u001b[32m3\u001b[39m],[\u001b[32m4\u001b[39m,\u001b[32m54\u001b[39m,\u001b[32m45\u001b[39m],[\u001b[32m33\u001b[39m,\u001b[32m354\u001b[39m,\u001b[32m65\u001b[39m]]])\n\u001b[32m      2\u001b[39m \u001b[38;5;28mprint\u001b[39m(c)\n\u001b[32m      3\u001b[39m d=np.delete(c,\u001b[32m1\u001b[39m,axis=\u001b[32m0\u001b[39m)\n",
      "\u001b[31mNameError\u001b[39m: name 'np' is not defined"
     ]
    }
   ],
   "source": [
    "c=np.array([[[1,2,3],[4,54,45],[33,354,65]]])\n",
    "print(c)\n",
    "d=np.delete(c,1,axis=0)\n",
    "print(d)"
   ]
  },
  {
   "cell_type": "markdown",
   "id": "e6029962",
   "metadata": {},
   "source": []
  }
 ],
 "metadata": {
  "kernelspec": {
   "display_name": "Python 3",
   "language": "python",
   "name": "python3"
  },
  "language_info": {
   "codemirror_mode": {
    "name": "ipython",
    "version": 3
   },
   "file_extension": ".py",
   "mimetype": "text/x-python",
   "name": "python",
   "nbconvert_exporter": "python",
   "pygments_lexer": "ipython3",
   "version": "3.12.5"
  }
 },
 "nbformat": 4,
 "nbformat_minor": 5
}
