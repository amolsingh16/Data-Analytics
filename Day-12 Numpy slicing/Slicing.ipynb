{
 "cells": [
  {
   "cell_type": "markdown",
   "id": "02dddcbb",
   "metadata": {},
   "source": [
    "Slicing of numpy array\n"
   ]
  },
  {
   "cell_type": "markdown",
   "id": "9d2163a5",
   "metadata": {},
   "source": [
    "Slicing in 1D array"
   ]
  },
  {
   "cell_type": "code",
   "execution_count": null,
   "id": "60e8c086",
   "metadata": {},
   "outputs": [
    {
     "ename": "ModuleNotFoundError",
     "evalue": "No module named 'numpy'",
     "output_type": "error",
     "traceback": [
      "\u001b[31m---------------------------------------------------------------------------\u001b[39m",
      "\u001b[31mModuleNotFoundError\u001b[39m                       Traceback (most recent call last)",
      "\u001b[36mCell\u001b[39m\u001b[36m \u001b[39m\u001b[32mIn[2]\u001b[39m\u001b[32m, line 1\u001b[39m\n\u001b[32m----> \u001b[39m\u001b[32m1\u001b[39m \u001b[38;5;28;01mimport\u001b[39;00m\u001b[38;5;250m \u001b[39m\u001b[34;01mnumpy\u001b[39;00m\u001b[38;5;250m \u001b[39m\u001b[38;5;28;01mas\u001b[39;00m\u001b[38;5;250m \u001b[39m\u001b[34;01mnp\u001b[39;00m\n\u001b[32m      2\u001b[39m arr=np.array([\u001b[32m1\u001b[39m,\u001b[32m2\u001b[39m,\u001b[32m3\u001b[39m,\u001b[32m4\u001b[39m,\u001b[32m5\u001b[39m,\u001b[32m6\u001b[39m])\n\u001b[32m      3\u001b[39m \u001b[38;5;28mprint\u001b[39m(arr[\u001b[32m1\u001b[39m:\u001b[32m5\u001b[39m])\n",
      "\u001b[31mModuleNotFoundError\u001b[39m: No module named 'numpy'"
     ]
    }
   ],
   "source": [
    "import numpy as np\n",
    "arr=np.array([1,2,3,4,5,6])\n",
    "print(arr[1:5])    # [2 3 4 5]"
   ]
  },
  {
   "cell_type": "code",
   "execution_count": null,
   "id": "db6becce",
   "metadata": {},
   "outputs": [],
   "source": [
    "import numpy as np\n",
    "arr=np.array([1,2,3,4,5,6,7,8])\n",
    "print(arr[::2])    # [1 3 5 7]"
   ]
  },
  {
   "cell_type": "markdown",
   "id": "459f0bbc",
   "metadata": {},
   "source": [
    "Slicing in 2D array"
   ]
  },
  {
   "cell_type": "code",
   "execution_count": null,
   "id": "74da2895",
   "metadata": {},
   "outputs": [],
   "source": [
    "import numpy as np\n",
    "arr=np.array([[1,2,3,4,5,6],[10,11,12,13,14,15])\n",
    "print(arr[1,1:4])     # [11 12 13]"
   ]
  },
  {
   "cell_type": "code",
   "execution_count": null,
   "id": "6d973edd",
   "metadata": {},
   "outputs": [],
   "source": [
    "import numpy as np\n",
    "arr=np.array([[1,2,3,4,5,6],[10,11,12,13,14,15]])\n",
    "print(arr[0,1:5])      #  [2 3 4 5]"
   ]
  },
  {
   "cell_type": "code",
   "execution_count": 2,
   "id": "fa255caf",
   "metadata": {},
   "outputs": [
    {
     "ename": "ModuleNotFoundError",
     "evalue": "No module named 'numpy'",
     "output_type": "error",
     "traceback": [
      "\u001b[31m---------------------------------------------------------------------------\u001b[39m",
      "\u001b[31mModuleNotFoundError\u001b[39m                       Traceback (most recent call last)",
      "\u001b[36mCell\u001b[39m\u001b[36m \u001b[39m\u001b[32mIn[2]\u001b[39m\u001b[32m, line 1\u001b[39m\n\u001b[32m----> \u001b[39m\u001b[32m1\u001b[39m \u001b[38;5;28;01mimport\u001b[39;00m\u001b[38;5;250m \u001b[39m\u001b[34;01mnumpy\u001b[39;00m\u001b[38;5;250m \u001b[39m\u001b[38;5;28;01mas\u001b[39;00m\u001b[38;5;250m \u001b[39m\u001b[34;01mnp\u001b[39;00m\n\u001b[32m      2\u001b[39m arr=np.array([[\u001b[32m1\u001b[39m,\u001b[32m2\u001b[39m,\u001b[32m3\u001b[39m,\u001b[32m4\u001b[39m,\u001b[32m5\u001b[39m,\u001b[32m6\u001b[39m],[\u001b[32m10\u001b[39m,\u001b[32m11\u001b[39m,\u001b[32m12\u001b[39m,\u001b[32m13\u001b[39m,\u001b[32m14\u001b[39m,\u001b[32m15\u001b[39m]])\n\u001b[32m      3\u001b[39m \u001b[38;5;28mprint\u001b[39m(arr[\u001b[32m0\u001b[39m,\u001b[32m1\u001b[39m:\u001b[32m3\u001b[39m]) \n",
      "\u001b[31mModuleNotFoundError\u001b[39m: No module named 'numpy'"
     ]
    }
   ],
   "source": [
    "import numpy as np\n",
    "arr=np.array([[1,2,3,4,5,6],[10,11,12,13,14,15]])\n",
    "print(arr[0,1:3]) "
   ]
  },
  {
   "cell_type": "code",
   "execution_count": null,
   "id": "7a9844be",
   "metadata": {},
   "outputs": [],
   "source": [
    "import numpy as np\n",
    "arr=np.array([[1,2,3,4,5,6],[10,11,12,13,14,15]])\n",
    "print(arr[1,1:3]) "
   ]
  }
 ],
 "metadata": {
  "kernelspec": {
   "display_name": "Python 3",
   "language": "python",
   "name": "python3"
  },
  "language_info": {
   "codemirror_mode": {
    "name": "ipython",
    "version": 3
   },
   "file_extension": ".py",
   "mimetype": "text/x-python",
   "name": "python",
   "nbconvert_exporter": "python",
   "pygments_lexer": "ipython3",
   "version": "3.12.5"
  }
 },
 "nbformat": 4,
 "nbformat_minor": 5
}
