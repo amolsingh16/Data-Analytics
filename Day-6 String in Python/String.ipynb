{
 "cells": [
  {
   "cell_type": "markdown",
   "id": "940686f6",
   "metadata": {},
   "source": [
    "*Creating string in Python*\n"
   ]
  },
  {
   "cell_type": "code",
   "execution_count": 1,
   "id": "26a742ce",
   "metadata": {},
   "outputs": [
    {
     "name": "stdout",
     "output_type": "stream",
     "text": [
      "Hello Amol\n",
      "<class 'str'>\n"
     ]
    }
   ],
   "source": [
    "a=\"Hello Amol\"\n",
    "print(a)\n",
    "print(type(a))"
   ]
  },
  {
   "cell_type": "markdown",
   "id": "c6b85dfa",
   "metadata": {},
   "source": [
    "Multilne String"
   ]
  },
  {
   "cell_type": "code",
   "execution_count": 2,
   "id": "a8ec2f01",
   "metadata": {},
   "outputs": [
    {
     "name": "stdout",
     "output_type": "stream",
     "text": [
      "Objective:\n",
      "To capture and analyze network traffic using Wireshark and understand basic protocols like HTTP, DNS, and SMTP to observe how data is transmitted and received over the network.\n",
      "\n",
      "Software/Tool Used:\n",
      "•\tWireshark (Latest Version)\n",
      "•\tOperating System: Windows/Linux\n",
      "\n",
      "Theory:\n",
      "Wireshark is a network protocol analyzer that captures packets in real-time and displays them in a human-readable format. It allows users to inspect data traveling through the network and understand how protocols communicate.\n",
      "•\tHTTP (HyperText Transfer Protocol): Used for transmitting web pages between browsers and servers.\n",
      "•\tDNS (Domain Name System): Translates domain names to IP addresses.\n",
      "SMTP (Simple Mail Transfer Protocol): Used to send emails between servers\n",
      "\n"
     ]
    }
   ],
   "source": [
    "s=\"\"\"Objective:\n",
    "To capture and analyze network traffic using Wireshark and understand basic protocols like HTTP, DNS, and SMTP to observe how data is transmitted and received over the network.\n",
    "\n",
    "Software/Tool Used:\n",
    "•\tWireshark (Latest Version)\n",
    "•\tOperating System: Windows/Linux\n",
    "\n",
    "Theory:\n",
    "Wireshark is a network protocol analyzer that captures packets in real-time and displays them in a human-readable format. It allows users to inspect data traveling through the network and understand how protocols communicate.\n",
    "•\tHTTP (HyperText Transfer Protocol): Used for transmitting web pages between browsers and servers.\n",
    "•\tDNS (Domain Name System): Translates domain names to IP addresses.\n",
    "SMTP (Simple Mail Transfer Protocol): Used to send emails between servers\n",
    "\"\"\"\n",
    "print(s)"
   ]
  },
  {
   "cell_type": "markdown",
   "id": "16f4b1ce",
   "metadata": {},
   "source": [
    "Indexing of String"
   ]
  },
  {
   "cell_type": "code",
   "execution_count": 3,
   "id": "d5497f83",
   "metadata": {},
   "outputs": [
    {
     "name": "stdout",
     "output_type": "stream",
     "text": [
      "n\n"
     ]
    }
   ],
   "source": [
    "a=\"Hello Student\"\n",
    "print(a[11])"
   ]
  },
  {
   "cell_type": "code",
   "execution_count": 5,
   "id": "7974041f",
   "metadata": {},
   "outputs": [
    {
     "name": "stdout",
     "output_type": "stream",
     "text": [
      "d\n"
     ]
    }
   ],
   "source": [
    "print(a[-4])"
   ]
  },
  {
   "cell_type": "code",
   "execution_count": 6,
   "id": "c530e660",
   "metadata": {},
   "outputs": [
    {
     "name": "stdout",
     "output_type": "stream",
     "text": [
      "t\n",
      "l\n"
     ]
    }
   ],
   "source": [
    "print(a[-1])\n",
    "print(a[-11])"
   ]
  },
  {
   "cell_type": "markdown",
   "id": "213984d3",
   "metadata": {},
   "source": [
    "Slicing of String"
   ]
  },
  {
   "cell_type": "code",
   "execution_count": 8,
   "id": "aed32c06",
   "metadata": {},
   "outputs": [
    {
     "name": "stdout",
     "output_type": "stream",
     "text": [
      "Student\n"
     ]
    }
   ],
   "source": [
    "str=\"Hello Student how are you? \"\n",
    "print(str[6:13])"
   ]
  },
  {
   "cell_type": "code",
   "execution_count": 9,
   "id": "f7c4737f",
   "metadata": {},
   "outputs": [
    {
     "name": "stdout",
     "output_type": "stream",
     "text": [
      "Student how \n"
     ]
    }
   ],
   "source": [
    "print(str[6:18])"
   ]
  },
  {
   "cell_type": "code",
   "execution_count": 10,
   "id": "5589dc57",
   "metadata": {},
   "outputs": [
    {
     "name": "stdout",
     "output_type": "stream",
     "text": [
      "HloSuethwa\n"
     ]
    }
   ],
   "source": [
    "print(str[0:20:2])"
   ]
  },
  {
   "cell_type": "code",
   "execution_count": 11,
   "id": "0bd57b72",
   "metadata": {},
   "outputs": [
    {
     "name": "stdout",
     "output_type": "stream",
     "text": [
      " ?uoy era woh tnedutS olleH\n"
     ]
    }
   ],
   "source": [
    "print(str[::-1])"
   ]
  },
  {
   "cell_type": "markdown",
   "id": "89b77dd6",
   "metadata": {},
   "source": [
    "Find length of string"
   ]
  },
  {
   "cell_type": "code",
   "execution_count": 12,
   "id": "38a108f4",
   "metadata": {},
   "outputs": [
    {
     "name": "stdout",
     "output_type": "stream",
     "text": [
      "11\n"
     ]
    }
   ],
   "source": [
    "a=\"hello world\"\n",
    "print(len(a))"
   ]
  },
  {
   "cell_type": "markdown",
   "id": "163bf778",
   "metadata": {},
   "source": [
    "Upper Method"
   ]
  },
  {
   "cell_type": "code",
   "execution_count": 13,
   "id": "7ce5d051",
   "metadata": {},
   "outputs": [
    {
     "name": "stdout",
     "output_type": "stream",
     "text": [
      "HELLO AMOL\n"
     ]
    }
   ],
   "source": [
    "a=\"hello amol\"\n",
    "print(a.upper())"
   ]
  },
  {
   "cell_type": "code",
   "execution_count": 15,
   "id": "e0061447",
   "metadata": {},
   "outputs": [
    {
     "name": "stdout",
     "output_type": "stream",
     "text": [
      "hello amol\n"
     ]
    }
   ],
   "source": [
    "a=\"HELLO AMOL\"\n",
    "print(a.lower())"
   ]
  },
  {
   "cell_type": "markdown",
   "id": "7df09164",
   "metadata": {},
   "source": [
    "Replace Function"
   ]
  },
  {
   "cell_type": "code",
   "execution_count": 16,
   "id": "f710d058",
   "metadata": {},
   "outputs": [
    {
     "name": "stdout",
     "output_type": "stream",
     "text": [
      "bye how are you\n"
     ]
    }
   ],
   "source": [
    "a=\"hello how are you\"\n",
    "print(a.replace(\"hello\",\"bye\"))"
   ]
  },
  {
   "cell_type": "code",
   "execution_count": 17,
   "id": "824c4adc",
   "metadata": {},
   "outputs": [
    {
     "name": "stdout",
     "output_type": "stream",
     "text": [
      "hello how are sou\n"
     ]
    }
   ],
   "source": [
    "print(a.replace(\"y\",\"s\"))"
   ]
  },
  {
   "cell_type": "markdown",
   "id": "9ba98a4d",
   "metadata": {},
   "source": [
    "Find Method"
   ]
  },
  {
   "cell_type": "code",
   "execution_count": 18,
   "id": "f6990bcf",
   "metadata": {},
   "outputs": [
    {
     "name": "stdout",
     "output_type": "stream",
     "text": [
      "10\n"
     ]
    }
   ],
   "source": [
    "a=\"Python is great\"\n",
    "b=a.find(\"g\")\n",
    "print(b)"
   ]
  },
  {
   "cell_type": "code",
   "execution_count": 19,
   "id": "3490ad58",
   "metadata": {},
   "outputs": [
    {
     "name": "stdout",
     "output_type": "stream",
     "text": [
      "0\n"
     ]
    }
   ],
   "source": [
    "print(a.find(\"P\"))"
   ]
  },
  {
   "cell_type": "code",
   "execution_count": 20,
   "id": "263cf4d1",
   "metadata": {},
   "outputs": [
    {
     "name": "stdout",
     "output_type": "stream",
     "text": [
      "6\n"
     ]
    }
   ],
   "source": [
    "print(a.find(\" \"))"
   ]
  }
 ],
 "metadata": {
  "kernelspec": {
   "display_name": "Python 3",
   "language": "python",
   "name": "python3"
  },
  "language_info": {
   "codemirror_mode": {
    "name": "ipython",
    "version": 3
   },
   "file_extension": ".py",
   "mimetype": "text/x-python",
   "name": "python",
   "nbconvert_exporter": "python",
   "pygments_lexer": "ipython3",
   "version": "3.12.5"
  }
 },
 "nbformat": 4,
 "nbformat_minor": 5
}
