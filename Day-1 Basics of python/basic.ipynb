{
 "cells": [
  {
   "cell_type": "markdown",
   "id": "89adafd6",
   "metadata": {},
   "source": [
    "### Data Analytics"
   ]
  },
  {
   "cell_type": "code",
   "execution_count": 6,
   "id": "a3b043ad",
   "metadata": {},
   "outputs": [
    {
     "name": "stdout",
     "output_type": "stream",
     "text": [
      "hello , welcome to Data Analytics course in 30 Day\n"
     ]
    }
   ],
   "source": [
    "print(\"hello , welcome to Data Analytics course in 30 Day\")\n"
   ]
  },
  {
   "cell_type": "code",
   "execution_count": 1,
   "id": "05b2cf27",
   "metadata": {},
   "outputs": [
    {
     "name": "stdout",
     "output_type": "stream",
     "text": [
      "amol\n"
     ]
    }
   ],
   "source": [
    "print(\"amol\")"
   ]
  },
  {
   "cell_type": "code",
   "execution_count": 2,
   "id": "69191235",
   "metadata": {},
   "outputs": [
    {
     "name": "stdout",
     "output_type": "stream",
     "text": [
      "5\n"
     ]
    }
   ],
   "source": [
    "print(2+3)"
   ]
  },
  {
   "cell_type": "markdown",
   "id": "5b61b592",
   "metadata": {},
   "source": [
    "Python comment"
   ]
  },
  {
   "cell_type": "code",
   "execution_count": 3,
   "id": "0a9c6107",
   "metadata": {},
   "outputs": [
    {
     "name": "stdout",
     "output_type": "stream",
     "text": [
      "hello world\n"
     ]
    }
   ],
   "source": [
    "# this is comment\n",
    "print(\"hello world\")"
   ]
  },
  {
   "cell_type": "markdown",
   "id": "d23dd9fd",
   "metadata": {},
   "source": [
    "Multiline comment"
   ]
  },
  {
   "cell_type": "code",
   "execution_count": 4,
   "id": "8f1ee391",
   "metadata": {},
   "outputs": [
    {
     "name": "stdout",
     "output_type": "stream",
     "text": [
      "7\n"
     ]
    }
   ],
   "source": [
    "\"\"\"\n",
    "multi\n",
    "line \n",
    "comment\n",
    "\"\"\"\n",
    "print(3+4)"
   ]
  },
  {
   "cell_type": "code",
   "execution_count": null,
   "id": "a6b3cd4b",
   "metadata": {},
   "outputs": [],
   "source": []
  },
  {
   "cell_type": "code",
   "execution_count": null,
   "id": "0e40232f",
   "metadata": {},
   "outputs": [],
   "source": []
  }
 ],
 "metadata": {
  "kernelspec": {
   "display_name": "Python 3",
   "language": "python",
   "name": "python3"
  },
  "language_info": {
   "codemirror_mode": {
    "name": "ipython",
    "version": 3
   },
   "file_extension": ".py",
   "mimetype": "text/x-python",
   "name": "python",
   "nbconvert_exporter": "python",
   "pygments_lexer": "ipython3",
   "version": "3.12.5"
  }
 },
 "nbformat": 4,
 "nbformat_minor": 5
}
