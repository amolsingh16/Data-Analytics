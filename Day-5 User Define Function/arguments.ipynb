{
 "cells": [
  {
   "cell_type": "markdown",
   "id": "b07f00af",
   "metadata": {},
   "source": [
    "Single arguments in def function"
   ]
  },
  {
   "cell_type": "code",
   "execution_count": 1,
   "id": "e2a92094",
   "metadata": {},
   "outputs": [],
   "source": [
    "def my_function(fname):\n",
    "    print(fname+ \" Singh\")"
   ]
  },
  {
   "cell_type": "code",
   "execution_count": 2,
   "id": "116edeb6",
   "metadata": {},
   "outputs": [
    {
     "name": "stdout",
     "output_type": "stream",
     "text": [
      "Amol Singh\n",
      "Kushal Singh\n",
      "Abhinav Singh\n"
     ]
    }
   ],
   "source": [
    "my_function(\"Amol\")\n",
    "my_function(\"Kushal\")\n",
    "my_function(\"Abhinav\")"
   ]
  },
  {
   "cell_type": "markdown",
   "id": "e7204491",
   "metadata": {},
   "source": [
    "Two arguments"
   ]
  },
  {
   "cell_type": "code",
   "execution_count": 3,
   "id": "37f0a271",
   "metadata": {},
   "outputs": [],
   "source": [
    "def my_function(fname, lname):\n",
    "    print(fname + \" \" + lname)"
   ]
  },
  {
   "cell_type": "code",
   "execution_count": 4,
   "id": "43d8859c",
   "metadata": {},
   "outputs": [
    {
     "name": "stdout",
     "output_type": "stream",
     "text": [
      "Amol Singh\n"
     ]
    }
   ],
   "source": [
    "my_function(\"Amol\",\"Singh\")"
   ]
  },
  {
   "cell_type": "markdown",
   "id": "1e69ca66",
   "metadata": {},
   "source": [
    "Calculate the electricity bill"
   ]
  },
  {
   "cell_type": "code",
   "execution_count": 10,
   "id": "3e5b9048",
   "metadata": {},
   "outputs": [],
   "source": [
    "def electricity_bill(n):\n",
    "    if n<=500:\n",
    "        print(\"your bill is \", n*5)\n",
    "    elif n>500 and n<=700:\n",
    "        print(\"your bill is \", n*10)\n",
    "    elif n>700 and n<=1000:\n",
    "        print(\"your bill is \", n*15)\n",
    "    elif n>1000:\n",
    "        print(\"your bill is \", n*20)"
   ]
  },
  {
   "cell_type": "code",
   "execution_count": 13,
   "id": "d8fd0e50",
   "metadata": {},
   "outputs": [],
   "source": [
    "def instruction():\n",
    "    print(\"Last Date : 20, April\")\n",
    "    print(\"After 20 April  you need to pay 1000 as a fine \")"
   ]
  },
  {
   "cell_type": "code",
   "execution_count": 14,
   "id": "13833a86",
   "metadata": {},
   "outputs": [
    {
     "name": "stdout",
     "output_type": "stream",
     "text": [
      "Name of customer Amol\n",
      "your bill is  113340\n",
      "Last Date : 20, April\n",
      "After 20 April  you need to pay 1000 as a fine \n",
      "Name of customer Kushal\n",
      "your bill is  15000\n",
      "Last Date : 20, April\n",
      "After 20 April  you need to pay 1000 as a fine \n"
     ]
    }
   ],
   "source": [
    "for i in range(2):\n",
    "    name=input(\"Enter the name of customer : \")\n",
    "    n=int(input(\"Enter the unit of electricity you have used : \"))\n",
    "    print(f\"Name of customer {name}\")\n",
    "    electricity_bill(n)\n",
    "    instruction()"
   ]
  },
  {
   "cell_type": "code",
   "execution_count": null,
   "id": "cc5d9f1d",
   "metadata": {},
   "outputs": [],
   "source": []
  }
 ],
 "metadata": {
  "kernelspec": {
   "display_name": "Python 3",
   "language": "python",
   "name": "python3"
  },
  "language_info": {
   "codemirror_mode": {
    "name": "ipython",
    "version": 3
   },
   "file_extension": ".py",
   "mimetype": "text/x-python",
   "name": "python",
   "nbconvert_exporter": "python",
   "pygments_lexer": "ipython3",
   "version": "3.12.5"
  }
 },
 "nbformat": 4,
 "nbformat_minor": 5
}
