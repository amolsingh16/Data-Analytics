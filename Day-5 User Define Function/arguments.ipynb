{
 "cells": [
  {
   "cell_type": "markdown",
   "id": "b07f00af",
   "metadata": {},
   "source": [
    "Single arguments in def function"
   ]
  },
  {
   "cell_type": "code",
   "execution_count": 1,
   "id": "e2a92094",
   "metadata": {},
   "outputs": [],
   "source": [
    "def my_function(fname):\n",
    "    print(fname+ \" Singh\")"
   ]
  },
  {
   "cell_type": "code",
   "execution_count": 2,
   "id": "116edeb6",
   "metadata": {},
   "outputs": [
    {
     "name": "stdout",
     "output_type": "stream",
     "text": [
      "Amol Singh\n",
      "Kushal Singh\n",
      "Abhinav Singh\n"
     ]
    }
   ],
   "source": [
    "my_function(\"Amol\")\n",
    "my_function(\"Kushal\")\n",
    "my_function(\"Abhinav\")"
   ]
  },
  {
   "cell_type": "markdown",
   "id": "e7204491",
   "metadata": {},
   "source": [
    "Two arguments"
   ]
  },
  {
   "cell_type": "code",
   "execution_count": 3,
   "id": "37f0a271",
   "metadata": {},
   "outputs": [],
   "source": [
    "def my_function(fname, lname):\n",
    "    print(fname + \" \" + lname)"
   ]
  },
  {
   "cell_type": "code",
   "execution_count": 4,
   "id": "43d8859c",
   "metadata": {},
   "outputs": [
    {
     "name": "stdout",
     "output_type": "stream",
     "text": [
      "Amol Singh\n"
     ]
    }
   ],
   "source": [
    "my_function(\"Amol\",\"Singh\")"
   ]
  },
  {
   "cell_type": "markdown",
   "id": "1e69ca66",
   "metadata": {},
   "source": [
    "Calculate the electricity bill"
   ]
  },
  {
   "cell_type": "code",
   "execution_count": 5,
   "id": "3e5b9048",
   "metadata": {},
   "outputs": [],
   "source": [
    "def electricity_bill(n):\n",
    "    if n<=500:\n",
    "        print(\"your bill is \"+ n*5)\n",
    "    elif n>500 and n<=700:\n",
    "        print(\"your bill is \"+ n*10)\n",
    "    elif n>700 and n<=1000:\n",
    "        print(\"your bill is \"+ n*15)\n",
    "    elif n>1000:\n",
    "        print(\"your bill is \"+ n*20)"
   ]
  },
  {
   "cell_type": "code",
   "execution_count": 7,
   "id": "13833a86",
   "metadata": {},
   "outputs": [
    {
     "name": "stdout",
     "output_type": "stream",
     "text": [
      "Name of customeramol\n"
     ]
    },
    {
     "ename": "TypeError",
     "evalue": "can only concatenate str (not \"int\") to str",
     "output_type": "error",
     "traceback": [
      "\u001b[31m---------------------------------------------------------------------------\u001b[39m",
      "\u001b[31mTypeError\u001b[39m                                 Traceback (most recent call last)",
      "\u001b[36mCell\u001b[39m\u001b[36m \u001b[39m\u001b[32mIn[7]\u001b[39m\u001b[32m, line 5\u001b[39m\n\u001b[32m      3\u001b[39m a=\u001b[38;5;28mint\u001b[39m(\u001b[38;5;28minput\u001b[39m(\u001b[33m\"\u001b[39m\u001b[33mEnter the unit of electricity you have used : \u001b[39m\u001b[33m\"\u001b[39m))\n\u001b[32m      4\u001b[39m \u001b[38;5;28mprint\u001b[39m(\u001b[33mf\u001b[39m\u001b[33m\"\u001b[39m\u001b[33mName of customer\u001b[39m\u001b[38;5;132;01m{\u001b[39;00mname\u001b[38;5;132;01m}\u001b[39;00m\u001b[33m\"\u001b[39m)\n\u001b[32m----> \u001b[39m\u001b[32m5\u001b[39m \u001b[43melectricity_bill\u001b[49m\u001b[43m(\u001b[49m\u001b[43ma\u001b[49m\u001b[43m)\u001b[49m\n",
      "\u001b[36mCell\u001b[39m\u001b[36m \u001b[39m\u001b[32mIn[5]\u001b[39m\u001b[32m, line 7\u001b[39m, in \u001b[36melectricity_bill\u001b[39m\u001b[34m(n)\u001b[39m\n\u001b[32m      5\u001b[39m     \u001b[38;5;28mprint\u001b[39m(\u001b[33m\"\u001b[39m\u001b[33myour bill is \u001b[39m\u001b[33m\"\u001b[39m+ n*\u001b[32m10\u001b[39m)\n\u001b[32m      6\u001b[39m \u001b[38;5;28;01melif\u001b[39;00m n>\u001b[32m700\u001b[39m \u001b[38;5;129;01mand\u001b[39;00m n<=\u001b[32m1000\u001b[39m:\n\u001b[32m----> \u001b[39m\u001b[32m7\u001b[39m     \u001b[38;5;28mprint\u001b[39m(\u001b[33;43m\"\u001b[39;49m\u001b[33;43myour bill is \u001b[39;49m\u001b[33;43m\"\u001b[39;49m\u001b[43m+\u001b[49m\u001b[43m \u001b[49m\u001b[43mn\u001b[49m\u001b[43m*\u001b[49m\u001b[32;43m15\u001b[39;49m)\n\u001b[32m      8\u001b[39m \u001b[38;5;28;01melif\u001b[39;00m n>\u001b[32m1000\u001b[39m:\n\u001b[32m      9\u001b[39m     \u001b[38;5;28mprint\u001b[39m(\u001b[33m\"\u001b[39m\u001b[33myour bill is \u001b[39m\u001b[33m\"\u001b[39m+ n*\u001b[32m20\u001b[39m)\n",
      "\u001b[31mTypeError\u001b[39m: can only concatenate str (not \"int\") to str"
     ]
    }
   ],
   "source": [
    "for i in range(2):\n",
    "    name=input(\"Enter the name of customer : \")\n",
    "    a=int(input(\"Enter the unit of electricity you have used : \"))\n",
    "    print(f\"Name of customer{name}\")\n",
    "    electricity_bill(a)"
   ]
  },
  {
   "cell_type": "code",
   "execution_count": null,
   "id": "cc5d9f1d",
   "metadata": {},
   "outputs": [],
   "source": []
  }
 ],
 "metadata": {
  "kernelspec": {
   "display_name": "Python 3",
   "language": "python",
   "name": "python3"
  },
  "language_info": {
   "codemirror_mode": {
    "name": "ipython",
    "version": 3
   },
   "file_extension": ".py",
   "mimetype": "text/x-python",
   "name": "python",
   "nbconvert_exporter": "python",
   "pygments_lexer": "ipython3",
   "version": "3.12.5"
  }
 },
 "nbformat": 4,
 "nbformat_minor": 5
}
