{
 "cells": [
  {
   "cell_type": "markdown",
   "id": "8718a4d9",
   "metadata": {},
   "source": [
    "Creating a user define function"
   ]
  },
  {
   "cell_type": "code",
   "execution_count": 1,
   "id": "dd689187",
   "metadata": {},
   "outputs": [],
   "source": [
    "def my_function():\n",
    "    print(\"Hello\")"
   ]
  },
  {
   "cell_type": "markdown",
   "id": "382d710e",
   "metadata": {},
   "source": [
    "Calling a function"
   ]
  },
  {
   "cell_type": "code",
   "execution_count": 2,
   "id": "ee2f2729",
   "metadata": {},
   "outputs": [
    {
     "name": "stdout",
     "output_type": "stream",
     "text": [
      "Hello\n"
     ]
    }
   ],
   "source": [
    "my_function()"
   ]
  },
  {
   "cell_type": "markdown",
   "id": "5cc4ee14",
   "metadata": {},
   "source": [
    "Making the result of a student"
   ]
  },
  {
   "cell_type": "code",
   "execution_count": 5,
   "id": "24049f69",
   "metadata": {},
   "outputs": [],
   "source": [
    "def contact():\n",
    "    print(\"Contact details of school\")\n",
    "    print(\"Delhi Public school\")\n",
    "    print(\"Bangalore , Karnataka\")\n",
    "    print(\"7081616290\")\n",
    "    print(\"dps@gmail.com\")\n",
    "    print()"
   ]
  },
  {
   "cell_type": "code",
   "execution_count": 4,
   "id": "808d5dbb",
   "metadata": {},
   "outputs": [
    {
     "name": "stdout",
     "output_type": "stream",
     "text": [
      "name of student is amol\n",
      "84.66666666666667%\n",
      "Contact details of school\n",
      "Delhi Public school\n",
      "Bangalore , Karnataka\n",
      "7081616290\n",
      "dps@gmail.com\n",
      "name of student is amit\n",
      "84.0%\n",
      "Contact details of school\n",
      "Delhi Public school\n",
      "Bangalore , Karnataka\n",
      "7081616290\n",
      "dps@gmail.com\n",
      "name of student is ajay\n",
      "83.33333333333334%\n",
      "Contact details of school\n",
      "Delhi Public school\n",
      "Bangalore , Karnataka\n",
      "7081616290\n",
      "dps@gmail.com\n"
     ]
    }
   ],
   "source": [
    "for i in range(3):\n",
    "    a=input(\"Enter a name of student : \")\n",
    "    m1=int(input(\"Enter a marks of math : \"))\n",
    "    m2=int(input(\"Enter a marks of science : \"))\n",
    "    m3=int(input(\"Enter a marks of social : \"))\n",
    "    per=((m1+m2+m3)/300)*100\n",
    "    print(f\"name of student is {a}\")\n",
    "    print(f\"{per}%\")\n",
    "    contact()"
   ]
  },
  {
   "cell_type": "code",
   "execution_count": null,
   "id": "f0b6db26",
   "metadata": {},
   "outputs": [],
   "source": []
  }
 ],
 "metadata": {
  "kernelspec": {
   "display_name": "Python 3",
   "language": "python",
   "name": "python3"
  },
  "language_info": {
   "codemirror_mode": {
    "name": "ipython",
    "version": 3
   },
   "file_extension": ".py",
   "mimetype": "text/x-python",
   "name": "python",
   "nbconvert_exporter": "python",
   "pygments_lexer": "ipython3",
   "version": "3.12.5"
  }
 },
 "nbformat": 4,
 "nbformat_minor": 5
}
