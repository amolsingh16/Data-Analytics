{
 "cells": [
  {
   "cell_type": "markdown",
   "id": "66accc7b",
   "metadata": {},
   "source": [
    "Creating a Set"
   ]
  },
  {
   "cell_type": "code",
   "execution_count": 1,
   "id": "7c018c47",
   "metadata": {},
   "outputs": [
    {
     "name": "stdout",
     "output_type": "stream",
     "text": [
      "{'Cat', 'Dog', 'Animal'}\n",
      "<class 'set'>\n"
     ]
    }
   ],
   "source": [
    "a={\"Animal\",\"Cat\",\"Dog\"}\n",
    "print(a)\n",
    "print(type(a))"
   ]
  },
  {
   "cell_type": "markdown",
   "id": "0fcc3a84",
   "metadata": {},
   "source": [
    "Set item are unordered"
   ]
  },
  {
   "cell_type": "code",
   "execution_count": 2,
   "id": "1df513a6",
   "metadata": {},
   "outputs": [
    {
     "ename": "TypeError",
     "evalue": "'set' object is not subscriptable",
     "output_type": "error",
     "traceback": [
      "\u001b[31m---------------------------------------------------------------------------\u001b[39m",
      "\u001b[31mTypeError\u001b[39m                                 Traceback (most recent call last)",
      "\u001b[36mCell\u001b[39m\u001b[36m \u001b[39m\u001b[32mIn[2]\u001b[39m\u001b[32m, line 2\u001b[39m\n\u001b[32m      1\u001b[39m a={\u001b[33m\"\u001b[39m\u001b[33mAnimal\u001b[39m\u001b[33m\"\u001b[39m,\u001b[33m\"\u001b[39m\u001b[33mCat\u001b[39m\u001b[33m\"\u001b[39m,\u001b[33m\"\u001b[39m\u001b[33mDog\u001b[39m\u001b[33m\"\u001b[39m}\n\u001b[32m----> \u001b[39m\u001b[32m2\u001b[39m \u001b[38;5;28mprint\u001b[39m(\u001b[43ma\u001b[49m\u001b[43m[\u001b[49m\u001b[32;43m1\u001b[39;49m\u001b[43m]\u001b[49m)\n",
      "\u001b[31mTypeError\u001b[39m: 'set' object is not subscriptable"
     ]
    }
   ],
   "source": [
    "a={\"Animal\",\"Cat\",\"Dog\"}\n",
    "print(a[1])"
   ]
  },
  {
   "cell_type": "markdown",
   "id": "55d28c52",
   "metadata": {},
   "source": [
    "Duplicate not allowed"
   ]
  },
  {
   "cell_type": "code",
   "execution_count": 3,
   "id": "af515181",
   "metadata": {},
   "outputs": [
    {
     "name": "stdout",
     "output_type": "stream",
     "text": [
      "{'Cat', 'Dog', 'Animal'}\n"
     ]
    }
   ],
   "source": [
    "\n",
    "a={\"Animal\",\"Cat\",\"Dog\",\"Animal\",\"Cat\"}\n",
    "print(a)"
   ]
  },
  {
   "cell_type": "markdown",
   "id": "bc6b9f58",
   "metadata": {},
   "source": [
    "true and 1 consider as same"
   ]
  },
  {
   "cell_type": "code",
   "execution_count": 4,
   "id": "8e8ff24d",
   "metadata": {},
   "outputs": [
    {
     "name": "stdout",
     "output_type": "stream",
     "text": [
      "{False, 1, 2, 3, 4}\n"
     ]
    }
   ],
   "source": [
    "a={1,2,3,4,True,False}\n",
    "print(a)"
   ]
  },
  {
   "cell_type": "markdown",
   "id": "6fca6684",
   "metadata": {},
   "source": [
    "Length of a set\n"
   ]
  },
  {
   "cell_type": "code",
   "execution_count": 5,
   "id": "fc8e4608",
   "metadata": {},
   "outputs": [
    {
     "name": "stdout",
     "output_type": "stream",
     "text": [
      "{'Cat', 'Dog', 'Animal'}\n",
      "3\n"
     ]
    }
   ],
   "source": [
    "a={\"Animal\",\"Cat\",\"Dog\",\"Animal\",\"Cat\"}\n",
    "print(a)\n",
    "print(len(a))"
   ]
  },
  {
   "cell_type": "markdown",
   "id": "352d02eb",
   "metadata": {},
   "source": [
    "set items - Data types"
   ]
  },
  {
   "cell_type": "code",
   "execution_count": 1,
   "id": "f227d6b8",
   "metadata": {},
   "outputs": [
    {
     "name": "stdout",
     "output_type": "stream",
     "text": [
      "{1, 2, 3, 4, 5} {1.2, 4.5, 6.7} {False, True} {'a', 'b'}\n"
     ]
    }
   ],
   "source": [
    "s1={1,2,3,4,5}\n",
    "s2={1.2,4.5,6.7}\n",
    "s3={True,False,True}\n",
    "s4={\"a\",\"b\"}\n",
    "print(s1,s2,s3,s4)"
   ]
  },
  {
   "cell_type": "code",
   "execution_count": 2,
   "id": "dc5b51f6",
   "metadata": {},
   "outputs": [
    {
     "name": "stdout",
     "output_type": "stream",
     "text": [
      "{1, 2, 3.4, 'a'}\n"
     ]
    }
   ],
   "source": [
    "s={1,2,3.4,True,\"a\"}\n",
    "print(s)"
   ]
  },
  {
   "cell_type": "code",
   "execution_count": 3,
   "id": "cfe7bf93",
   "metadata": {},
   "outputs": [
    {
     "ename": "TypeError",
     "evalue": "unhashable type: 'list'",
     "output_type": "error",
     "traceback": [
      "\u001b[31m---------------------------------------------------------------------------\u001b[39m",
      "\u001b[31mTypeError\u001b[39m                                 Traceback (most recent call last)",
      "\u001b[36mCell\u001b[39m\u001b[36m \u001b[39m\u001b[32mIn[3]\u001b[39m\u001b[32m, line 1\u001b[39m\n\u001b[32m----> \u001b[39m\u001b[32m1\u001b[39m x5={[\u001b[32m1\u001b[39m,\u001b[32m2\u001b[39m,\u001b[32m2\u001b[39m,\u001b[32m3\u001b[39m]}\n\u001b[32m      2\u001b[39m \u001b[38;5;28mprint\u001b[39m(x5)\n",
      "\u001b[31mTypeError\u001b[39m: unhashable type: 'list'"
     ]
    }
   ],
   "source": [
    "x5={[1,2,2,3]}\n",
    "print(x5)"
   ]
  },
  {
   "cell_type": "code",
   "execution_count": 4,
   "id": "efa8b28a",
   "metadata": {},
   "outputs": [
    {
     "name": "stdout",
     "output_type": "stream",
     "text": [
      "{(1, 2, 2, 3)}\n"
     ]
    }
   ],
   "source": [
    "x5={(1,2,2,3)}\n",
    "print(x5)"
   ]
  },
  {
   "cell_type": "code",
   "execution_count": 5,
   "id": "5dffed85",
   "metadata": {},
   "outputs": [
    {
     "ename": "TypeError",
     "evalue": "unhashable type: 'set'",
     "output_type": "error",
     "traceback": [
      "\u001b[31m---------------------------------------------------------------------------\u001b[39m",
      "\u001b[31mTypeError\u001b[39m                                 Traceback (most recent call last)",
      "\u001b[36mCell\u001b[39m\u001b[36m \u001b[39m\u001b[32mIn[5]\u001b[39m\u001b[32m, line 1\u001b[39m\n\u001b[32m----> \u001b[39m\u001b[32m1\u001b[39m a={{\u001b[32m1\u001b[39m,\u001b[32m2\u001b[39m},{\u001b[32m2\u001b[39m,\u001b[32m3\u001b[39m}}\n\u001b[32m      2\u001b[39m \u001b[38;5;28mprint\u001b[39m(a)\n",
      "\u001b[31mTypeError\u001b[39m: unhashable type: 'set'"
     ]
    }
   ],
   "source": [
    "a={{1,2},{2,3}}\n",
    "print(a)"
   ]
  },
  {
   "cell_type": "markdown",
   "id": "657f45fb",
   "metadata": {},
   "source": [
    "The set() constructor"
   ]
  },
  {
   "cell_type": "code",
   "execution_count": 6,
   "id": "b51410c3",
   "metadata": {},
   "outputs": [
    {
     "name": "stdout",
     "output_type": "stream",
     "text": [
      "{'alpha', 'gama', 'beta'}\n"
     ]
    }
   ],
   "source": [
    "s=set((\"alpha\",\"beta\",\"gama\"))\n",
    "print(s)"
   ]
  },
  {
   "cell_type": "markdown",
   "id": "dbbe2694",
   "metadata": {},
   "source": [
    "Creating empty Set"
   ]
  },
  {
   "cell_type": "code",
   "execution_count": 8,
   "id": "9a0c77b1",
   "metadata": {},
   "outputs": [
    {
     "name": "stdout",
     "output_type": "stream",
     "text": [
      "{}\n",
      "<class 'dict'>\n"
     ]
    }
   ],
   "source": [
    "a={}\n",
    "print(a)\n",
    "print(type(a))"
   ]
  },
  {
   "cell_type": "code",
   "execution_count": 10,
   "id": "a297678e",
   "metadata": {},
   "outputs": [
    {
     "name": "stdout",
     "output_type": "stream",
     "text": [
      "set()\n",
      "<class 'set'>\n"
     ]
    }
   ],
   "source": [
    "a=set()\n",
    "print(a)\n",
    "print(type(a))"
   ]
  },
  {
   "cell_type": "markdown",
   "id": "6831bb61",
   "metadata": {},
   "source": [
    "Access Item"
   ]
  },
  {
   "cell_type": "code",
   "execution_count": 11,
   "id": "b42f647c",
   "metadata": {},
   "outputs": [
    {
     "name": "stdout",
     "output_type": "stream",
     "text": [
      "a\n",
      "c\n",
      "b\n"
     ]
    }
   ],
   "source": [
    "a={\"a\",\"b\",\"c\"}\n",
    "for i in a:\n",
    "    print(i)"
   ]
  },
  {
   "cell_type": "markdown",
   "id": "dff82dd7",
   "metadata": {},
   "source": [
    "check item present or not in set"
   ]
  },
  {
   "cell_type": "code",
   "execution_count": 13,
   "id": "1ca63dab",
   "metadata": {},
   "outputs": [
    {
     "name": "stdout",
     "output_type": "stream",
     "text": [
      "True\n"
     ]
    }
   ],
   "source": [
    "a={\"python\",\"code\",\"data\"}\n",
    "print(\"code\" in a)"
   ]
  },
  {
   "cell_type": "code",
   "execution_count": 14,
   "id": "128953ec",
   "metadata": {},
   "outputs": [
    {
     "name": "stdout",
     "output_type": "stream",
     "text": [
      "False\n"
     ]
    }
   ],
   "source": [
    "print(\"Code\" in a)"
   ]
  },
  {
   "cell_type": "markdown",
   "id": "e623e33c",
   "metadata": {},
   "source": [
    "Add items"
   ]
  },
  {
   "cell_type": "code",
   "execution_count": 15,
   "id": "64fba979",
   "metadata": {},
   "outputs": [
    {
     "name": "stdout",
     "output_type": "stream",
     "text": [
      "{'d', 'b', 100, 'a', 'c'}\n"
     ]
    }
   ],
   "source": [
    "a={\"a\",\"b\",\"c\",\"d\"}\n",
    "a.add(100)\n",
    "print(a)"
   ]
  },
  {
   "cell_type": "code",
   "execution_count": 16,
   "id": "27276d62",
   "metadata": {},
   "outputs": [
    {
     "name": "stdout",
     "output_type": "stream",
     "text": [
      "{'d', 'a', 'b', 'data', 'code', 'python', 'c'}\n"
     ]
    }
   ],
   "source": [
    "a={\"a\",\"b\",\"c\",\"d\"}\n",
    "b={\"python\",\"code\",\"data\"}\n",
    "a.update(b)\n",
    "print(a)"
   ]
  },
  {
   "cell_type": "markdown",
   "id": "fb0562e8",
   "metadata": {},
   "source": [
    "Remove set items"
   ]
  },
  {
   "cell_type": "code",
   "execution_count": 18,
   "id": "4da0efbf",
   "metadata": {},
   "outputs": [
    {
     "name": "stdout",
     "output_type": "stream",
     "text": [
      "{'d', 'data', 'a', 'code', 'python', 'c'}\n"
     ]
    }
   ],
   "source": [
    "a={\"a\",\"b\",\"c\",\"d\", 'data', 'code', 'python'}\n",
    "a.remove(\"b\")\n",
    "print(a)"
   ]
  },
  {
   "cell_type": "code",
   "execution_count": 22,
   "id": "9c72d6c8",
   "metadata": {},
   "outputs": [
    {
     "name": "stdout",
     "output_type": "stream",
     "text": [
      "{'d', 'b', 'a', 'code', 'python', 'c'}\n"
     ]
    }
   ],
   "source": [
    "a={\"a\",\"b\",\"c\",\"d\", 'data', 'code', 'python'}\n",
    "a.remove('data')\n",
    "print(a)"
   ]
  },
  {
   "cell_type": "markdown",
   "id": "31a174a3",
   "metadata": {},
   "source": [
    "one item randomly delete"
   ]
  },
  {
   "cell_type": "code",
   "execution_count": 24,
   "id": "8da5a395",
   "metadata": {},
   "outputs": [
    {
     "name": "stdout",
     "output_type": "stream",
     "text": [
      "d\n",
      "{'b', 'data', 'a', 'code', 'python', 'c'}\n"
     ]
    }
   ],
   "source": [
    "x={\"a\",\"b\",\"c\",\"d\", 'data', 'code', 'python'}\n",
    "a=x.pop()\n",
    "print(a)\n",
    "print(x)"
   ]
  },
  {
   "cell_type": "code",
   "execution_count": 25,
   "id": "25d59762",
   "metadata": {},
   "outputs": [
    {
     "name": "stdout",
     "output_type": "stream",
     "text": [
      "set()\n"
     ]
    }
   ],
   "source": [
    "x={\"a\",\"b\",\"c\",\"d\", 'data', 'code', 'python'}\n",
    "x.clear()\n",
    "print(x)"
   ]
  },
  {
   "cell_type": "code",
   "execution_count": 26,
   "id": "13fe19ef",
   "metadata": {},
   "outputs": [
    {
     "ename": "NameError",
     "evalue": "name 'x' is not defined",
     "output_type": "error",
     "traceback": [
      "\u001b[31m---------------------------------------------------------------------------\u001b[39m",
      "\u001b[31mNameError\u001b[39m                                 Traceback (most recent call last)",
      "\u001b[36mCell\u001b[39m\u001b[36m \u001b[39m\u001b[32mIn[26]\u001b[39m\u001b[32m, line 3\u001b[39m\n\u001b[32m      1\u001b[39m x={\u001b[33m\"\u001b[39m\u001b[33ma\u001b[39m\u001b[33m\"\u001b[39m,\u001b[33m\"\u001b[39m\u001b[33mb\u001b[39m\u001b[33m\"\u001b[39m,\u001b[33m\"\u001b[39m\u001b[33mc\u001b[39m\u001b[33m\"\u001b[39m,\u001b[33m\"\u001b[39m\u001b[33md\u001b[39m\u001b[33m\"\u001b[39m, \u001b[33m'\u001b[39m\u001b[33mdata\u001b[39m\u001b[33m'\u001b[39m, \u001b[33m'\u001b[39m\u001b[33mcode\u001b[39m\u001b[33m'\u001b[39m, \u001b[33m'\u001b[39m\u001b[33mpython\u001b[39m\u001b[33m'\u001b[39m}\n\u001b[32m      2\u001b[39m \u001b[38;5;28;01mdel\u001b[39;00m x\n\u001b[32m----> \u001b[39m\u001b[32m3\u001b[39m \u001b[38;5;28mprint\u001b[39m(\u001b[43mx\u001b[49m)\n",
      "\u001b[31mNameError\u001b[39m: name 'x' is not defined"
     ]
    }
   ],
   "source": [
    "x={\"a\",\"b\",\"c\",\"d\", 'data', 'code', 'python'}\n",
    "del x\n",
    "print(x)"
   ]
  },
  {
   "cell_type": "markdown",
   "id": "b36ba2f2",
   "metadata": {},
   "source": [
    "Join two Set"
   ]
  },
  {
   "cell_type": "code",
   "execution_count": 28,
   "id": "ea8b1ddc",
   "metadata": {},
   "outputs": [
    {
     "name": "stdout",
     "output_type": "stream",
     "text": [
      "{'d', 1, 'b', 'data', 2, 'code', 3, 4, 5, 6, 'a', 'python', 'c'}\n"
     ]
    }
   ],
   "source": [
    "x={\"a\",\"b\",\"c\",\"d\", 'data', 'code', 'python'}\n",
    "y={1,2,3,4,5,6}\n",
    "z=x.union(y)\n",
    "print(z)"
   ]
  },
  {
   "cell_type": "markdown",
   "id": "1bb766ff",
   "metadata": {},
   "source": [
    "WAP tp find max and min values"
   ]
  },
  {
   "cell_type": "code",
   "execution_count": 29,
   "id": "00e4cd73",
   "metadata": {},
   "outputs": [
    {
     "name": "stdout",
     "output_type": "stream",
     "text": [
      "Original set :\n",
      "{65, 34, 1, 4, 87, 56, 89}\n",
      "maximum value\n",
      "89\n",
      "minimum values\n",
      "1\n"
     ]
    }
   ],
   "source": [
    "a={1,65,34,87,56,34,89,4}\n",
    "print(\"Original set :\")\n",
    "print(a)\n",
    "print(\"maximum value\")\n",
    "print(max(a))\n",
    "print(\"minimum values\")\n",
    "print(min(a))"
   ]
  },
  {
   "cell_type": "markdown",
   "id": "08b415ea",
   "metadata": {},
   "source": [
    "Return a new set of identical items from two sets"
   ]
  },
  {
   "cell_type": "code",
   "execution_count": 30,
   "id": "b967aabc",
   "metadata": {},
   "outputs": [
    {
     "name": "stdout",
     "output_type": "stream",
     "text": [
      "{34, 76, 45}\n"
     ]
    }
   ],
   "source": [
    "s1={12,323,45,76,97,34,5}\n",
    "s2={34,45,56,35,76,45,43}\n",
    "print(s1.intersection(s2))"
   ]
  },
  {
   "cell_type": "code",
   "execution_count": null,
   "id": "abfe8287",
   "metadata": {},
   "outputs": [],
   "source": []
  }
 ],
 "metadata": {
  "kernelspec": {
   "display_name": "Python 3",
   "language": "python",
   "name": "python3"
  },
  "language_info": {
   "codemirror_mode": {
    "name": "ipython",
    "version": 3
   },
   "file_extension": ".py",
   "mimetype": "text/x-python",
   "name": "python",
   "nbconvert_exporter": "python",
   "pygments_lexer": "ipython3",
   "version": "3.12.5"
  }
 },
 "nbformat": 4,
 "nbformat_minor": 5
}
