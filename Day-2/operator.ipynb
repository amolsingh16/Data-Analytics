{
 "cells": [
  {
   "cell_type": "markdown",
   "id": "7f3ad914",
   "metadata": {},
   "source": [
    "Operators in Python"
   ]
  },
  {
   "cell_type": "markdown",
   "id": "c22a0dea",
   "metadata": {},
   "source": [
    "Addition"
   ]
  },
  {
   "cell_type": "code",
   "execution_count": 1,
   "id": "538a1606",
   "metadata": {},
   "outputs": [
    {
     "name": "stdout",
     "output_type": "stream",
     "text": [
      "9\n"
     ]
    }
   ],
   "source": [
    "a=5\n",
    "b=4\n",
    "print(a+b)"
   ]
  },
  {
   "cell_type": "code",
   "execution_count": 2,
   "id": "1e58c2cb",
   "metadata": {},
   "outputs": [
    {
     "name": "stdout",
     "output_type": "stream",
     "text": [
      "10.100000000000001\n"
     ]
    }
   ],
   "source": [
    "a=5.4\n",
    "b=4.7\n",
    "print(a+b)"
   ]
  },
  {
   "cell_type": "code",
   "execution_count": 3,
   "id": "dc9c8a5a",
   "metadata": {},
   "outputs": [
    {
     "name": "stdout",
     "output_type": "stream",
     "text": [
      "(9+2j)\n"
     ]
    }
   ],
   "source": [
    "a=5+2j\n",
    "b=4\n",
    "print(a+b)"
   ]
  },
  {
   "cell_type": "code",
   "execution_count": 4,
   "id": "64d26d37",
   "metadata": {},
   "outputs": [
    {
     "name": "stdout",
     "output_type": "stream",
     "text": [
      "hello student\n"
     ]
    }
   ],
   "source": [
    "a=\"hello \"\n",
    "b=\"student\"\n",
    "print(a+b)"
   ]
  },
  {
   "cell_type": "markdown",
   "id": "92b1f910",
   "metadata": {},
   "source": [
    "Subtaction"
   ]
  },
  {
   "cell_type": "code",
   "execution_count": 5,
   "id": "b8d518dd",
   "metadata": {},
   "outputs": [
    {
     "name": "stdout",
     "output_type": "stream",
     "text": [
      "1\n"
     ]
    }
   ],
   "source": [
    "a=5\n",
    "b=4\n",
    "print(a-b)"
   ]
  },
  {
   "cell_type": "code",
   "execution_count": 6,
   "id": "c9351ddb",
   "metadata": {},
   "outputs": [
    {
     "name": "stdout",
     "output_type": "stream",
     "text": [
      "(1+4j)\n"
     ]
    }
   ],
   "source": [
    "a=5+4j\n",
    "b=4\n",
    "print(a-b)"
   ]
  },
  {
   "cell_type": "markdown",
   "id": "f75367bf",
   "metadata": {},
   "source": [
    "Multiplication "
   ]
  },
  {
   "cell_type": "code",
   "execution_count": 7,
   "id": "144a42c5",
   "metadata": {},
   "outputs": [
    {
     "name": "stdout",
     "output_type": "stream",
     "text": [
      "12\n"
     ]
    }
   ],
   "source": [
    "a=4\n",
    "b=3\n",
    "print(a*b)"
   ]
  },
  {
   "cell_type": "code",
   "execution_count": 8,
   "id": "e27d2dee",
   "metadata": {},
   "outputs": [
    {
     "name": "stdout",
     "output_type": "stream",
     "text": [
      "26.4\n"
     ]
    }
   ],
   "source": [
    "a=5.5\n",
    "b=4.8\n",
    "print(a*b)"
   ]
  },
  {
   "cell_type": "markdown",
   "id": "0ab310eb",
   "metadata": {},
   "source": [
    "Division"
   ]
  },
  {
   "cell_type": "code",
   "execution_count": 9,
   "id": "a2e9e795",
   "metadata": {},
   "outputs": [
    {
     "name": "stdout",
     "output_type": "stream",
     "text": [
      "1.25\n"
     ]
    }
   ],
   "source": [
    "a=5\n",
    "b=4\n",
    "print(a/b)"
   ]
  },
  {
   "cell_type": "code",
   "execution_count": 10,
   "id": "24c18f01",
   "metadata": {},
   "outputs": [
    {
     "name": "stdout",
     "output_type": "stream",
     "text": [
      "4.0\n"
     ]
    }
   ],
   "source": [
    "a=16\n",
    "b=4\n",
    "print(a/b)"
   ]
  },
  {
   "cell_type": "markdown",
   "id": "a2bfbe3e",
   "metadata": {},
   "source": [
    "Modulous"
   ]
  },
  {
   "cell_type": "code",
   "execution_count": 11,
   "id": "5e05adf9",
   "metadata": {},
   "outputs": [
    {
     "name": "stdout",
     "output_type": "stream",
     "text": [
      "2\n"
     ]
    }
   ],
   "source": [
    "a=50\n",
    "b=4\n",
    "print(a%b)"
   ]
  },
  {
   "cell_type": "code",
   "execution_count": 12,
   "id": "e2bdd0b8",
   "metadata": {},
   "outputs": [
    {
     "name": "stdout",
     "output_type": "stream",
     "text": [
      "4\n"
     ]
    }
   ],
   "source": [
    "a=34\n",
    "b=5\n",
    "print(a%b)"
   ]
  },
  {
   "cell_type": "markdown",
   "id": "1a1c3b3b",
   "metadata": {},
   "source": [
    "Exponent"
   ]
  },
  {
   "cell_type": "code",
   "execution_count": 13,
   "id": "f547510b",
   "metadata": {},
   "outputs": [
    {
     "name": "stdout",
     "output_type": "stream",
     "text": [
      "119530055154703252674500319194469482949\n"
     ]
    }
   ],
   "source": [
    "a= 41256789\n",
    "print(a**5)"
   ]
  },
  {
   "cell_type": "code",
   "execution_count": 14,
   "id": "136a9624",
   "metadata": {},
   "outputs": [
    {
     "name": "stdout",
     "output_type": "stream",
     "text": [
      "8\n"
     ]
    }
   ],
   "source": [
    "a=2\n",
    "print(a**3)"
   ]
  },
  {
   "cell_type": "code",
   "execution_count": 15,
   "id": "260a7034",
   "metadata": {},
   "outputs": [
    {
     "name": "stdout",
     "output_type": "stream",
     "text": [
      "False\n"
     ]
    }
   ],
   "source": [
    "a=True\n",
    "b=False\n",
    "print(a and b)"
   ]
  },
  {
   "cell_type": "code",
   "execution_count": 17,
   "id": "c3613e46",
   "metadata": {},
   "outputs": [
    {
     "name": "stdout",
     "output_type": "stream",
     "text": [
      "True\n"
     ]
    }
   ],
   "source": [
    "a=True\n",
    "b=True\n",
    "print(a and b)"
   ]
  },
  {
   "cell_type": "code",
   "execution_count": 18,
   "id": "63e8306a",
   "metadata": {},
   "outputs": [
    {
     "name": "stdout",
     "output_type": "stream",
     "text": [
      "True\n"
     ]
    }
   ],
   "source": [
    "a=True\n",
    "b=False\n",
    "print(a or b)"
   ]
  },
  {
   "cell_type": "code",
   "execution_count": 19,
   "id": "5f555490",
   "metadata": {},
   "outputs": [
    {
     "name": "stdout",
     "output_type": "stream",
     "text": [
      "False\n"
     ]
    }
   ],
   "source": [
    "a=True\n",
    "b=False\n",
    "print(not(a))"
   ]
  },
  {
   "cell_type": "code",
   "execution_count": null,
   "id": "8e24c474",
   "metadata": {},
   "outputs": [],
   "source": []
  }
 ],
 "metadata": {
  "kernelspec": {
   "display_name": "Python 3",
   "language": "python",
   "name": "python3"
  },
  "language_info": {
   "codemirror_mode": {
    "name": "ipython",
    "version": 3
   },
   "file_extension": ".py",
   "mimetype": "text/x-python",
   "name": "python",
   "nbconvert_exporter": "python",
   "pygments_lexer": "ipython3",
   "version": "3.12.5"
  }
 },
 "nbformat": 4,
 "nbformat_minor": 5
}
