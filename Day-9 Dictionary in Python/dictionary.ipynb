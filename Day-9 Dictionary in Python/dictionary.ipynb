{
 "cells": [
  {
   "cell_type": "markdown",
   "id": "32834f88",
   "metadata": {},
   "source": [
    "Creating a Dictionary"
   ]
  },
  {
   "cell_type": "code",
   "execution_count": 1,
   "id": "50a8a1e7",
   "metadata": {},
   "outputs": [],
   "source": [
    "dict={\n",
    "    \"id\":\"123A\",\n",
    "    \"color\":\"red\",\n",
    "    \"year\":2003\n",
    "}"
   ]
  },
  {
   "cell_type": "code",
   "execution_count": 2,
   "id": "b444d603",
   "metadata": {},
   "outputs": [
    {
     "name": "stdout",
     "output_type": "stream",
     "text": [
      "{'id': '123A', 'color': 'red', 'year': 2003}\n",
      "<class 'dict'>\n"
     ]
    }
   ],
   "source": [
    "print(dict)\n",
    "print(type(dict))"
   ]
  },
  {
   "cell_type": "code",
   "execution_count": 3,
   "id": "a351e817",
   "metadata": {},
   "outputs": [
    {
     "name": "stdout",
     "output_type": "stream",
     "text": [
      "red\n"
     ]
    }
   ],
   "source": [
    "print(dict[\"color\"])"
   ]
  },
  {
   "cell_type": "markdown",
   "id": "34044779",
   "metadata": {},
   "source": [
    "Duplicate not allowed\n"
   ]
  },
  {
   "cell_type": "code",
   "execution_count": 4,
   "id": "c735b224",
   "metadata": {},
   "outputs": [],
   "source": [
    "dict={\n",
    "    \"id\":\"123A\",\n",
    "    \"color\":\"red\",\n",
    "    \"year\":2003,\n",
    "    \"year\":2006\n",
    "}"
   ]
  },
  {
   "cell_type": "code",
   "execution_count": 5,
   "id": "6d73a84c",
   "metadata": {},
   "outputs": [
    {
     "name": "stdout",
     "output_type": "stream",
     "text": [
      "{'id': '123A', 'color': 'red', 'year': 2006}\n"
     ]
    }
   ],
   "source": [
    "print(dict)"
   ]
  },
  {
   "cell_type": "markdown",
   "id": "b4c3f879",
   "metadata": {},
   "source": [
    "Length in dictionary"
   ]
  },
  {
   "cell_type": "code",
   "execution_count": 7,
   "id": "5d784677",
   "metadata": {},
   "outputs": [
    {
     "name": "stdout",
     "output_type": "stream",
     "text": [
      "3\n"
     ]
    }
   ],
   "source": [
    "a={\n",
    "    \"id\":\"123A\",\n",
    "    \"color\":\"red\",\n",
    "    \"year\":2003\n",
    "}\n",
    "print(len(a))"
   ]
  },
  {
   "cell_type": "code",
   "execution_count": 8,
   "id": "4b8c632b",
   "metadata": {},
   "outputs": [
    {
     "name": "stdout",
     "output_type": "stream",
     "text": [
      "{'id': '123A', 'color': 'red', 'year': 2003, 'a': [1, 2, 3, 4, 6], 'b': (2.5, 23, 5, 6), 'c': True}\n"
     ]
    }
   ],
   "source": [
    "dict={\n",
    "    \"id\":\"123A\",\n",
    "    \"color\":\"red\",\n",
    "    \"year\":2003,\n",
    "    \"a\":[1,2,3,4,6],\n",
    "    \"b\":(2.5,23,5,6),\n",
    "    \"c\":True\n",
    "}\n",
    "print(dict)"
   ]
  },
  {
   "cell_type": "code",
   "execution_count": 12,
   "id": "aa114950",
   "metadata": {},
   "outputs": [
    {
     "ename": "TypeError",
     "evalue": "'dict' object is not callable",
     "output_type": "error",
     "traceback": [
      "\u001b[31m---------------------------------------------------------------------------\u001b[39m",
      "\u001b[31mTypeError\u001b[39m                                 Traceback (most recent call last)",
      "\u001b[36mCell\u001b[39m\u001b[36m \u001b[39m\u001b[32mIn[12]\u001b[39m\u001b[32m, line 1\u001b[39m\n\u001b[32m----> \u001b[39m\u001b[32m1\u001b[39m a=\u001b[38;5;28;43mdict\u001b[39;49m\u001b[43m(\u001b[49m\u001b[43mname\u001b[49m\u001b[43m=\u001b[49m\u001b[33;43m\"\u001b[39;49m\u001b[33;43mamol\u001b[39;49m\u001b[33;43m\"\u001b[39;49m\u001b[43m,\u001b[49m\u001b[43mage\u001b[49m\u001b[43m=\u001b[49m\u001b[32;43m19\u001b[39;49m\u001b[43m,\u001b[49m\u001b[43mcountry\u001b[49m\u001b[43m=\u001b[49m\u001b[33;43m\"\u001b[39;49m\u001b[33;43mindia\u001b[39;49m\u001b[33;43m\"\u001b[39;49m\u001b[43m)\u001b[49m\n\u001b[32m      2\u001b[39m \u001b[38;5;28mprint\u001b[39m(a)\n",
      "\u001b[31mTypeError\u001b[39m: 'dict' object is not callable"
     ]
    }
   ],
   "source": [
    "a=dict(name=\"amol\",age=19,country=\"india\")\n",
    "print(a)"
   ]
  },
  {
   "cell_type": "code",
   "execution_count": 15,
   "id": "b362a74f",
   "metadata": {},
   "outputs": [
    {
     "name": "stdout",
     "output_type": "stream",
     "text": [
      "amol\n"
     ]
    }
   ],
   "source": [
    "a={\"name\":\"amol\",\"age\":19,\"country\":\"India\"}\n",
    "print(a['name'])"
   ]
  },
  {
   "cell_type": "code",
   "execution_count": 16,
   "id": "014095bf",
   "metadata": {},
   "outputs": [
    {
     "name": "stdout",
     "output_type": "stream",
     "text": [
      "19\n"
     ]
    }
   ],
   "source": [
    "print(a[\"age\"])"
   ]
  },
  {
   "cell_type": "code",
   "execution_count": 17,
   "id": "ea660a63",
   "metadata": {},
   "outputs": [
    {
     "name": "stdout",
     "output_type": "stream",
     "text": [
      "India\n"
     ]
    }
   ],
   "source": [
    "print(a.get(\"country\"))"
   ]
  },
  {
   "cell_type": "code",
   "execution_count": 19,
   "id": "4399f0e3",
   "metadata": {},
   "outputs": [
    {
     "name": "stdout",
     "output_type": "stream",
     "text": [
      "dict_keys(['name', 'age', 'country'])\n",
      "dict_values(['amol', 19, 'India'])\n"
     ]
    }
   ],
   "source": [
    "x=a.keys()\n",
    "y=a.values()\n",
    "print(x)\n",
    "print(y)"
   ]
  },
  {
   "cell_type": "code",
   "execution_count": 20,
   "id": "b0b278c6",
   "metadata": {},
   "outputs": [
    {
     "name": "stdout",
     "output_type": "stream",
     "text": [
      "{'name': 'amol', 'age': 20, 'country': 'India'}\n"
     ]
    }
   ],
   "source": [
    "a={\"name\":\"amol\",\"age\":19,\"country\":\"India\"}\n",
    "a[\"age\"]=20\n",
    "print(a)"
   ]
  },
  {
   "cell_type": "code",
   "execution_count": 21,
   "id": "9d4a8488",
   "metadata": {},
   "outputs": [
    {
     "name": "stdout",
     "output_type": "stream",
     "text": [
      "{'name': 'amol', 'age': 20, 'country': 'India', 'mail': 'amolsi@gmail.com'}\n"
     ]
    }
   ],
   "source": [
    "a.update({\"mail\":\"amolsi@gmail.com\"})\n",
    "print(a)"
   ]
  },
  {
   "cell_type": "code",
   "execution_count": 22,
   "id": "f8b156c6",
   "metadata": {},
   "outputs": [
    {
     "name": "stdout",
     "output_type": "stream",
     "text": [
      "{'name': 'amol', 'country': 'India'}\n"
     ]
    }
   ],
   "source": [
    "a={\"name\":\"amol\",\"age\":19,\"country\":\"India\"}\n",
    "a.pop(\"age\")\n",
    "print(a)"
   ]
  },
  {
   "cell_type": "code",
   "execution_count": 23,
   "id": "fd2b2ff2",
   "metadata": {},
   "outputs": [
    {
     "name": "stdout",
     "output_type": "stream",
     "text": [
      "{'name': 'amol', 'country': 'India'}\n"
     ]
    }
   ],
   "source": [
    "a={\"name\":\"amol\",\"age\":19,\"country\":\"India\"}\n",
    "del a[\"age\"]\n",
    "print(a)"
   ]
  },
  {
   "cell_type": "code",
   "execution_count": 24,
   "id": "a25cda95",
   "metadata": {},
   "outputs": [
    {
     "name": "stdout",
     "output_type": "stream",
     "text": [
      "{}\n",
      "<class 'dict'>\n"
     ]
    }
   ],
   "source": [
    "a.clear()\n",
    "print(a)\n",
    "print(type(a))"
   ]
  },
  {
   "cell_type": "code",
   "execution_count": 26,
   "id": "cd0bf638",
   "metadata": {},
   "outputs": [
    {
     "name": "stdout",
     "output_type": "stream",
     "text": [
      "{1: 10, 2: 20, 3: 30, 4: 40, 5: 50, 6: 60}\n"
     ]
    }
   ],
   "source": [
    "d1={1:10,2:20}\n",
    "d2={3:30,4:40}\n",
    "d3={5:50,6:60}\n",
    "d4={}\n",
    "for d in (d1,d2,d3):\n",
    "    d4.update(d)\n",
    "print(d4)"
   ]
  },
  {
   "cell_type": "code",
   "execution_count": 27,
   "id": "17d5169b",
   "metadata": {},
   "outputs": [
    {
     "ename": "TypeError",
     "evalue": "'dict' object is not callable",
     "output_type": "error",
     "traceback": [
      "\u001b[31m---------------------------------------------------------------------------\u001b[39m",
      "\u001b[31mTypeError\u001b[39m                                 Traceback (most recent call last)",
      "\u001b[36mCell\u001b[39m\u001b[36m \u001b[39m\u001b[32mIn[27]\u001b[39m\u001b[32m, line 1\u001b[39m\n\u001b[32m----> \u001b[39m\u001b[32m1\u001b[39m d=\u001b[38;5;28;43mdict\u001b[39;49m\u001b[43m(\u001b[49m\u001b[43m)\u001b[49m\n\u001b[32m      2\u001b[39m \u001b[38;5;28;01mfor\u001b[39;00m x \u001b[38;5;129;01min\u001b[39;00m \u001b[38;5;28mrange\u001b[39m(\u001b[32m1\u001b[39m,\u001b[32m16\u001b[39m):\n\u001b[32m      3\u001b[39m     d[x]=x**\u001b[32m2\u001b[39m\n",
      "\u001b[31mTypeError\u001b[39m: 'dict' object is not callable"
     ]
    }
   ],
   "source": [
    "d=dict()\n",
    "for x in range(1,16):\n",
    "    d[x]=x**2\n",
    "print(d)"
   ]
  },
  {
   "cell_type": "code",
   "execution_count": null,
   "id": "b48d881c",
   "metadata": {},
   "outputs": [],
   "source": []
  }
 ],
 "metadata": {
  "kernelspec": {
   "display_name": "Python 3",
   "language": "python",
   "name": "python3"
  },
  "language_info": {
   "codemirror_mode": {
    "name": "ipython",
    "version": 3
   },
   "file_extension": ".py",
   "mimetype": "text/x-python",
   "name": "python",
   "nbconvert_exporter": "python",
   "pygments_lexer": "ipython3",
   "version": "3.12.5"
  }
 },
 "nbformat": 4,
 "nbformat_minor": 5
}
