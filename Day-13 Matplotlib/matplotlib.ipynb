{
 "cells": [
  {
   "cell_type": "markdown",
   "id": "fe406635",
   "metadata": {},
   "source": [
    "Matplotlib"
   ]
  },
  {
   "cell_type": "markdown",
   "id": "628e873f",
   "metadata": {},
   "source": [
    "jl"
   ]
  }
 ],
 "metadata": {
  "language_info": {
   "name": "python"
  }
 },
 "nbformat": 4,
 "nbformat_minor": 5
}
