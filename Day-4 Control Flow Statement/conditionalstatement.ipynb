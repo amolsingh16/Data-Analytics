{
 "cells": [
  {
   "cell_type": "markdown",
   "id": "53bb606a",
   "metadata": {},
   "source": [
    "*If Statement*\n"
   ]
  },
  {
   "cell_type": "markdown",
   "id": "49633f32",
   "metadata": {},
   "source": [
    "Write a program to calculate the percentage of a student "
   ]
  },
  {
   "cell_type": "code",
   "execution_count": 1,
   "id": "db41a18b",
   "metadata": {},
   "outputs": [
    {
     "name": "stdout",
     "output_type": "stream",
     "text": [
      "percentage of Amol  is 79.4\n"
     ]
    }
   ],
   "source": [
    "name=input(\"Enter a name of student : \")\n",
    "a=int(input(\"Enter a marks of math\"))\n",
    "b=int(input(\"Enter a marks of java\"))\n",
    "c=int(input(\"Enter a marks of dstl\"))\n",
    "d=int(input(\"Enter a marks of de\"))\n",
    "e=int(input(\"Enter a marks of os\"))\n",
    "per=((a+b+c+d+e)/500)*100\n",
    "print(f\"percentage of {name} is {per}\")"
   ]
  },
  {
   "cell_type": "markdown",
   "id": "c514e7b6",
   "metadata": {},
   "source": [
    "Grade of Student"
   ]
  },
  {
   "cell_type": "code",
   "execution_count": 6,
   "id": "c650ba56",
   "metadata": {},
   "outputs": [
    {
     "name": "stdout",
     "output_type": "stream",
     "text": [
      "F Grade\n"
     ]
    }
   ],
   "source": [
    "n=int(input(\"enter a marks of student : \"))\n",
    "if n>=90:\n",
    "    print(\"A Grade\")\n",
    "if n>=75 and n<90:\n",
    "    print(\"B Grade\")\n",
    "if n>=65 and n<75:\n",
    "    print(\"C Grade\")\n",
    "if n<65:\n",
    "    print(\"F Grade\")"
   ]
  },
  {
   "cell_type": "markdown",
   "id": "c66f37f7",
   "metadata": {},
   "source": [
    "*If else statement*"
   ]
  },
  {
   "cell_type": "code",
   "execution_count": 7,
   "id": "771cc85e",
   "metadata": {},
   "outputs": [
    {
     "name": "stdout",
     "output_type": "stream",
     "text": [
      "67 is not multiple of 5\n"
     ]
    }
   ],
   "source": [
    "n=int(input(\"Enter a number : \"))\n",
    "if n%5==0:\n",
    "    print(f\"{n} is multiple of 5\")\n",
    "else:\n",
    "    print(f\"{n} is not multiple of 5\")"
   ]
  },
  {
   "cell_type": "code",
   "execution_count": 8,
   "id": "6975aaa7",
   "metadata": {},
   "outputs": [
    {
     "name": "stdout",
     "output_type": "stream",
     "text": [
      "56 is a positive number\n"
     ]
    }
   ],
   "source": [
    "n=int(input(\"enter a number : \"))\n",
    "if n>0:\n",
    "    print(f\"{n} is a positive number\")\n",
    "else:\n",
    "    print(f\"{n} is a negative number\")"
   ]
  },
  {
   "cell_type": "markdown",
   "id": "ae506c6a",
   "metadata": {},
   "source": [
    "*if-elif-else statement*"
   ]
  },
  {
   "cell_type": "code",
   "execution_count": 11,
   "id": "add42b36",
   "metadata": {},
   "outputs": [
    {
     "name": "stdout",
     "output_type": "stream",
     "text": [
      "The monument of Agra is Tajmahal\n"
     ]
    }
   ],
   "source": [
    "a=input(\"Enter a city name : \")\n",
    "if a==\"Delhi\":\n",
    "    print(\"The monument in Delhi is Red Fort\")\n",
    "elif a==\"Agra\":\n",
    "    print(\"The monument of Agra is Tajmahal\")\n",
    "elif a==\"Jaipur\":\n",
    "    print(\"The monument of Jaipur is Jalmahal\")\n",
    "elif a==\"Hyderabad\":\n",
    "    print(\"The monument of Hyderabad is charminar\")\n",
    "else:\n",
    "    print(\"Record not found\")"
   ]
  },
  {
   "cell_type": "code",
   "execution_count": null,
   "id": "98cbe195",
   "metadata": {},
   "outputs": [],
   "source": []
  }
 ],
 "metadata": {
  "kernelspec": {
   "display_name": "Python 3",
   "language": "python",
   "name": "python3"
  },
  "language_info": {
   "codemirror_mode": {
    "name": "ipython",
    "version": 3
   },
   "file_extension": ".py",
   "mimetype": "text/x-python",
   "name": "python",
   "nbconvert_exporter": "python",
   "pygments_lexer": "ipython3",
   "version": "3.12.5"
  }
 },
 "nbformat": 4,
 "nbformat_minor": 5
}
